{
  "cells": [
    {
      "cell_type": "markdown",
      "metadata": {
        "id": "view-in-github",
        "colab_type": "text"
      },
      "source": [
        "<a href=\"https://colab.research.google.com/github/davidnalbandyann/ACA_homework/blob/main/Decision_Tree.ipynb\" target=\"_parent\"><img src=\"https://colab.research.google.com/assets/colab-badge.svg\" alt=\"Open In Colab\"/></a>"
      ]
    },
    {
      "cell_type": "markdown",
      "id": "f36d50b3",
      "metadata": {
        "id": "f36d50b3"
      },
      "source": [
        "# Implementation"
      ]
    },
    {
      "cell_type": "code",
      "execution_count": null,
      "id": "67a1c454",
      "metadata": {
        "id": "67a1c454"
      },
      "outputs": [],
      "source": [
        "class DecisionTree:\n",
        "    def __init__(self):\n",
        "        pass\n",
        "\n",
        "    def fit(self, X, y):\n",
        "        tree_dict = dict()\n",
        "        best_gini = 1.1\n",
        "        for f in range(X.shape[1]):\n",
        "            values = np.unique(X[:, f])\n",
        "            for v in values[1:]:\n",
        "                y1 = y[X[:, f]>=v]\n",
        "                y2 = y[X[:, f]<v]\n",
        "                gini = self.gini(np.unique(y1, return_counts=True)[1], np.unique(y2, return_counts=True)[1])\n",
        "                if gini<best_gini:\n",
        "                    tree_dict['column'] = f\n",
        "                    tree_dict['value'] = v\n",
        "                    best_gini = gini\n",
        "\n",
        "        if 'column' not in tree_dict:\n",
        "            return stats.mode(y)[0][0]\n",
        "\n",
        "        f = tree_dict['column']\n",
        "        v = tree_dict['value']\n",
        "        y1 = y[X[:, f]>=v]\n",
        "        y2 = y[X[:, f]<v]\n",
        "\n",
        "        if len(np.unique(y1))==1:\n",
        "            tree_dict['true'] = y1[0]\n",
        "        else:\n",
        "            tree_dict['true'] = self.fit(X[X[:, f]>=v], y1)\n",
        "\n",
        "        if len(np.unique(y2))==1:\n",
        "            tree_dict['false'] = y2[0]\n",
        "        else:\n",
        "            tree_dict['false'] = self.fit(X[X[:, f]<v], y2)\n",
        "\n",
        "        self.tree_dict = tree_dict\n",
        "        return tree_dict\n",
        "\n",
        "    def get_value(self, x, tree):\n",
        "        if not isinstance(tree, dict):\n",
        "            return tree\n",
        "        if x[tree['column']] >= tree['value']:\n",
        "            return self.get_value(x, tree['true'])\n",
        "        return self.get_value(x, tree['false'])\n",
        "\n",
        "    def predict(self, X):\n",
        "        y_pred = []\n",
        "        for x in X:\n",
        "            y_pred.append(self.get_value(x, self.tree_dict))\n",
        "        return y_pred\n",
        "\n",
        "    def gini(self, y1, y2):\n",
        "        gini1 = 1 - ((y1/y1.sum()) ** 2).sum()\n",
        "        gini2 = 1 - ((y2/y2.sum()) ** 2).sum()\n",
        "        return (gini1 * y1.sum() + gini2 * y2.sum()) / (y1.sum()+y2.sum())"
      ]
    },
    {
      "cell_type": "code",
      "execution_count": null,
      "id": "4183b234",
      "metadata": {
        "id": "4183b234"
      },
      "outputs": [],
      "source": []
    }
  ],
  "metadata": {
    "kernelspec": {
      "display_name": "Python 3 (ipykernel)",
      "language": "python",
      "name": "python3"
    },
    "language_info": {
      "codemirror_mode": {
        "name": "ipython",
        "version": 3
      },
      "file_extension": ".py",
      "mimetype": "text/x-python",
      "name": "python",
      "nbconvert_exporter": "python",
      "pygments_lexer": "ipython3",
      "version": "3.9.12"
    },
    "colab": {
      "provenance": [],
      "include_colab_link": true
    }
  },
  "nbformat": 4,
  "nbformat_minor": 5
}