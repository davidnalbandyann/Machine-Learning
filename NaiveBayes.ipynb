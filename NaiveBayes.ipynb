{
  "cells": [
    {
      "cell_type": "markdown",
      "metadata": {
        "id": "view-in-github",
        "colab_type": "text"
      },
      "source": [
        "<a href=\"https://colab.research.google.com/github/davidnalbandyann/ACA_homework/blob/main/NaiveBayes.ipynb\" target=\"_parent\"><img src=\"https://colab.research.google.com/assets/colab-badge.svg\" alt=\"Open In Colab\"/></a>"
      ]
    },
    {
      "cell_type": "markdown",
      "metadata": {
        "id": "3v8X1qWVlqwo"
      },
      "source": [
        "# Homework"
      ]
    },
    {
      "cell_type": "code",
      "execution_count": null,
      "metadata": {
        "id": "XzG2g6Gflqwq"
      },
      "outputs": [],
      "source": [
        "import numpy as np\n",
        "class NaiveBayes:\n",
        "    def fit(self, X, y)\n",
        "    n_samples, n_features= X.shape\n",
        "    self.classes = np.unique(y)\n",
        "    n_classes=len(self.classes)\n",
        "    self.mean=np.zeros((n_classes, n_features))\n",
        "    self.var=np.zeros((n_classes, n_features))\n",
        "    self.priors=np.zeros((n_classes))\n",
        "\n",
        "    for class1 in self.classes:\n",
        "        X_class1=X[class1==y]\n",
        "        self.mean[class1,:]=X_class1.mean(axis=0)\n",
        "        self.var[class1,:]=X_class1.var(axis=0)\n",
        "        self.priors[class1]=X_class1.shape[0]/n_samples\n",
        "    def pdf(self, class_id, x):\n",
        "        mean=self.mean[class_id]\n",
        "        var=self.var[class_id]\n",
        "        pdf=(np.exp(-(x-mean)**2/(2*var)))/np.sqrt(2*np.pi*var)\n",
        "        return pdf\n",
        "    def predict_for_1(self, x):\n",
        "        probs=[]\n",
        "        for id, class1 in enumerate(self.classes):\n",
        "            prior=np.log(self.priors[id])\n",
        "            class_cond=np.sum(np.log(self.pdf(id, x)))\n",
        "            prob=prior+class_cond\n",
        "            probs.append(prob)\n",
        "        return self.classes[np.argmax(probs)]\n",
        "    def predict(self, X):\n",
        "        y_pred=[self.predict_for_1(x) for x in X]\n",
        "        return y_pred"
      ]
    },
    {
      "cell_type": "code",
      "execution_count": null,
      "metadata": {
        "id": "-MikeQcNlqwr"
      },
      "outputs": [],
      "source": [
        "class LinearDiscriminantAnalysis:\n",
        "\n",
        "    def __init__(self, n_components):\n",
        "        self.n_components = n_components\n",
        "        self.linear_discriminants = None\n",
        "\n",
        "    def fit(self, X, y):\n",
        "        n_features = X.shape[1]\n",
        "        class_labels = np.unique(y)\n",
        "\n",
        "        mean_overall = np.mean(X, axis=0)\n",
        "        SW = np.zeros((n_features, n_features))\n",
        "        SB = np.zeros((n_features, n_features))\n",
        "        for c in class_labels:\n",
        "            X_c = X[y == c]\n",
        "            mean_c = np.mean(X_c, axis=0)\n",
        "            SW += (X_c - mean_c).T.dot((X_c - mean_c))\n",
        "            n_c = X_c.shape[0]\n",
        "            mean_diff = (mean_c - mean_overall).reshape(n_features, 1)\n",
        "            SB += n_c * (mean_diff).dot(mean_diff.T)\n",
        "\n",
        "        A = np.linalg.inv(SW).dot(SB)\n",
        "        eigenvalues, eigenvectors = np.linalg.eig(A)\n",
        "        eigenvectors = eigenvectors.T\n",
        "        idxs = np.argsort(abs(eigenvalues))[::-1]\n",
        "        eigenvalues = eigenvalues[idxs]\n",
        "        eigenvectors = eigenvectors[idxs]\n",
        "        self.linear_discriminants = eigenvectors[0 : self.n_components]\n",
        "\n",
        "    def transform(self, X):\n",
        "        return np.dot(X, self.linear_discriminants.T)\n"
      ]
    }
  ],
  "metadata": {
    "colab": {
      "provenance": [],
      "include_colab_link": true
    },
    "kernelspec": {
      "display_name": "Python 3 (ipykernel)",
      "language": "python",
      "name": "python3"
    },
    "language_info": {
      "codemirror_mode": {
        "name": "ipython",
        "version": 3
      },
      "file_extension": ".py",
      "mimetype": "text/x-python",
      "name": "python",
      "nbconvert_exporter": "python",
      "pygments_lexer": "ipython3",
      "version": "3.10.2"
    }
  },
  "nbformat": 4,
  "nbformat_minor": 0
}