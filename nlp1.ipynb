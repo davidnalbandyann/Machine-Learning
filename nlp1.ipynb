{
  "cells": [
    {
      "cell_type": "markdown",
      "metadata": {
        "id": "view-in-github",
        "colab_type": "text"
      },
      "source": [
        "<a href=\"https://colab.research.google.com/github/davidnalbandyann/ACA_homework/blob/main/nlp1.ipynb\" target=\"_parent\"><img src=\"https://colab.research.google.com/assets/colab-badge.svg\" alt=\"Open In Colab\"/></a>"
      ]
    },
    {
      "cell_type": "markdown",
      "metadata": {
        "id": "6Yoxu0VvyxXy"
      },
      "source": [
        "# Large scale text analysis with deep learning\n",
        "\n",
        "Today we're gonna apply the newly learned tools for the task of predicting job salary.\n",
        "\n",
        "<img src=\"https://storage.googleapis.com/kaggle-competitions/kaggle/3342/media/salary%20prediction%20engine%20v2.png\" width=400px>\n",
        "\n",
        "_Special thanks to [Oleg Vasilev](https://github.com/Omrigan/) for the core assignment idea._"
      ]
    },
    {
      "cell_type": "code",
      "execution_count": null,
      "metadata": {
        "id": "iSFmymI1yxX1"
      },
      "outputs": [],
      "source": [
        "import numpy as np\n",
        "import pandas as pd\n",
        "import matplotlib.pyplot as plt\n",
        "%matplotlib inline"
      ]
    },
    {
      "cell_type": "markdown",
      "metadata": {
        "id": "r6k0fNl9yxX2"
      },
      "source": [
        "### About the challenge\n",
        "For starters, let's download and unpack the data from [here](https://www.dropbox.com/s/5msc5ix7ndyba10/Train_rev1.csv.tar.gz?dl=0).\n",
        "\n",
        "You can also get it from [yadisk url](https://yadi.sk/d/vVEOWPFY3NruT7) the competition [page](https://www.kaggle.com/c/job-salary-prediction/data) (pick `Train_rev1.*`)."
      ]
    },
    {
      "cell_type": "code",
      "execution_count": null,
      "metadata": {
        "colab": {
          "base_uri": "https://localhost:8080/"
        },
        "id": "-eaElJIGyxX3",
        "outputId": "ff85e8aa-80c7-4a63-faa9-81b8f99b32be"
      },
      "outputs": [
        {
          "output_type": "stream",
          "name": "stdout",
          "text": [
            "  % Total    % Received % Xferd  Average Speed   Time    Time     Time  Current\n",
            "                                 Dload  Upload   Total   Spent    Left  Speed\n",
            "100    17    0    17    0     0     77      0 --:--:-- --:--:-- --:--:--    77\n",
            "100   342  100   342    0     0    754      0 --:--:-- --:--:-- --:--:--   754\n",
            "100  119M  100  119M    0     0  12.5M      0  0:00:09  0:00:09 --:--:-- 19.3M\n",
            "Train_rev1.csv\n"
          ]
        },
        {
          "output_type": "execute_result",
          "data": {
            "text/plain": [
              "(244768, 12)"
            ]
          },
          "metadata": {},
          "execution_count": 2
        }
      ],
      "source": [
        "!curl -L https://www.dropbox.com/s/5msc5ix7ndyba10/Train_rev1.csv.tar.gz?dl=1 -o Train_rev1.csv.tar.gz\n",
        "!tar -xvzf ./Train_rev1.csv.tar.gz\n",
        "data = pd.read_csv(\"./Train_rev1.csv\", index_col=None)\n",
        "data.shape"
      ]
    },
    {
      "cell_type": "markdown",
      "metadata": {
        "id": "9Xyf2PeoyxX4"
      },
      "source": [
        "One problem with salary prediction is that it's oddly distributed: there are many people who are paid standard salaries and a few that get tons o money. The distribution is fat-tailed on the right side, which is inconvenient for MSE minimization.\n",
        "\n",
        "There are several techniques to combat this: using a different loss function, predicting log-target instead of raw target or even replacing targets with their percentiles among all salaries in the training set. We gonna use logarithm for now.\n",
        "\n",
        "_You can read more [in the official description](https://www.kaggle.com/c/job-salary-prediction#description)._"
      ]
    },
    {
      "cell_type": "code",
      "execution_count": null,
      "metadata": {
        "colab": {
          "base_uri": "https://localhost:8080/",
          "height": 368
        },
        "id": "-F_s8HPlyxX4",
        "outputId": "249fd788-e832-4ff9-a980-2ec2deb543e5"
      },
      "outputs": [
        {
          "output_type": "display_data",
          "data": {
            "text/plain": [
              "<Figure size 800x400 with 2 Axes>"
            ],
            "image/png": "[encoded data removed]"
          },
          "metadata": {}
        }
      ],
      "source": [
        "data['Log1pSalary'] = np.log1p(data['SalaryNormalized']).astype('float32')\n",
        "\n",
        "plt.figure(figsize=[8, 4])\n",
        "plt.subplot(1, 2, 1)\n",
        "plt.hist(data[\"SalaryNormalized\"], bins=20);\n",
        "\n",
        "plt.subplot(1, 2, 2)\n",
        "plt.hist(data['Log1pSalary'], bins=20);"
      ]
    },
    {
      "cell_type": "markdown",
      "metadata": {
        "id": "r1V5ihQ-yxX5"
      },
      "source": [
        "Our task is to predict one number, __Log1pSalary__.\n",
        "\n",
        "To do so, our model can access a number of features:\n",
        "* Free text: __`Title`__ and  __`FullDescription`__\n",
        "* Categorical: __`Category`__, __`Company`__, __`LocationNormalized`__, __`ContractType`__, and __`ContractTime`__."
      ]
    },
    {
      "cell_type": "code",
      "execution_count": null,
      "metadata": {
        "colab": {
          "base_uri": "https://localhost:8080/",
          "height": 410
        },
        "id": "9ax9n0ruyxX5",
        "outputId": "b1d160ca-9190-4bfb-b01d-ad11d7067f39"
      },
      "outputs": [
        {
          "output_type": "execute_result",
          "data": {
            "text/plain": [
              "              Id                                             Title  \\\n",
              "187885  71685213   Mechanical Design Engineer  Aberdeen  Permanent   \n",
              "174399  71434256  Area Account Manager Required  MUST HAVE OWN CAR   \n",
              "216319  72244905                     Quality Engineer  Bournemouth   \n",
              "\n",
              "                                          FullDescription  \\\n",
              "187885  Mechanical Design Engineer  Aberdeen  Permanen...   \n",
              "174399  Company Exceptional opportunity for an account...   \n",
              "216319  QUALITY ENGINEER Salary: ****k to ****k basic ...   \n",
              "\n",
              "                          LocationRaw LocationNormalized ContractType  \\\n",
              "187885         Aberdeenshire,Aberdeen                 UK          NaN   \n",
              "174399    Harrow Middlesex South East                 UK          NaN   \n",
              "216319  Bournemouth Dorset South West        Bournemouth          NaN   \n",
              "\n",
              "       ContractTime                 Company            Category  \\\n",
              "187885    permanent            Jobsite Jobs    Engineering Jobs   \n",
              "174399    permanent  Hanover IT recruitment          Sales Jobs   \n",
              "216319    permanent     Hammond Recruitment  Other/General Jobs   \n",
              "\n",
              "                                           SalaryRaw  SalaryNormalized  \\\n",
              "187885                45000.00 - 65000.00 GBP Annual             55000   \n",
              "174399               From 30,000 to 60,000 per annum             45000   \n",
              "216319  23000 - 25000 per annum + Excellent Benefits             24000   \n",
              "\n",
              "           SourceName  Log1pSalary  \n",
              "187885  jobsite.co.uk    10.915107  \n",
              "174399  totaljobs.com    10.714440  \n",
              "216319  totaljobs.com    10.085851  "
            ],
            "text/html": [
              "\n",
              "\n",
              "  <div id=\"df-786adbe2-3657-4b1a-b002-30a21e595da8\">\n",
              "    <div class=\"colab-df-container\">\n",
              "      <div>\n",
              "<style scoped>\n",
              "    .dataframe tbody tr th:only-of-type {\n",
              "        vertical-align: middle;\n",
              "    }\n",
              "\n",
              "    .dataframe tbody tr th {\n",
              "        vertical-align: top;\n",
              "    }\n",
              "\n",
              "    .dataframe thead th {\n",
              "        text-align: right;\n",
              "    }\n",
              "</style>\n",
              "<table border=\"1\" class=\"dataframe\">\n",
              "  <thead>\n",
              "    <tr style=\"text-align: right;\">\n",
              "      <th></th>\n",
              "      <th>Id</th>\n",
              "      <th>Title</th>\n",
              "      <th>FullDescription</th>\n",
              "      <th>LocationRaw</th>\n",
              "      <th>LocationNormalized</th>\n",
              "      <th>ContractType</th>\n",
              "      <th>ContractTime</th>\n",
              "      <th>Company</th>\n",
              "      <th>Category</th>\n",
              "      <th>SalaryRaw</th>\n",
              "      <th>SalaryNormalized</th>\n",
              "      <th>SourceName</th>\n",
              "      <th>Log1pSalary</th>\n",
              "    </tr>\n",
              "  </thead>\n",
              "  <tbody>\n",
              "    <tr>\n",
              "      <th>187885</th>\n",
              "      <td>71685213</td>\n",
              "      <td>Mechanical Design Engineer  Aberdeen  Permanent</td>\n",
              "      <td>Mechanical Design Engineer  Aberdeen  Permanen...</td>\n",
              "      <td>Aberdeenshire,Aberdeen</td>\n",
              "      <td>UK</td>\n",
              "      <td>NaN</td>\n",
              "      <td>permanent</td>\n",
              "      <td>Jobsite Jobs</td>\n",
              "      <td>Engineering Jobs</td>\n",
              "      <td>45000.00 - 65000.00 GBP Annual</td>\n",
              "      <td>55000</td>\n",
              "      <td>jobsite.co.uk</td>\n",
              "      <td>10.915107</td>\n",
              "    </tr>\n",
              "    <tr>\n",
              "      <th>174399</th>\n",
              "      <td>71434256</td>\n",
              "      <td>Area Account Manager Required  MUST HAVE OWN CAR</td>\n",
              "      <td>Company Exceptional opportunity for an account...</td>\n",
              "      <td>Harrow Middlesex South East</td>\n",
              "      <td>UK</td>\n",
              "      <td>NaN</td>\n",
              "      <td>permanent</td>\n",
              "      <td>Hanover IT recruitment</td>\n",
              "      <td>Sales Jobs</td>\n",
              "      <td>From 30,000 to 60,000 per annum</td>\n",
              "      <td>45000</td>\n",
              "      <td>totaljobs.com</td>\n",
              "      <td>10.714440</td>\n",
              "    </tr>\n",
              "    <tr>\n",
              "      <th>216319</th>\n",
              "      <td>72244905</td>\n",
              "      <td>Quality Engineer  Bournemouth</td>\n",
              "      <td>QUALITY ENGINEER Salary: ****k to ****k basic ...</td>\n",
              "      <td>Bournemouth Dorset South West</td>\n",
              "      <td>Bournemouth</td>\n",
              "      <td>NaN</td>\n",
              "      <td>permanent</td>\n",
              "      <td>Hammond Recruitment</td>\n",
              "      <td>Other/General Jobs</td>\n",
              "      <td>23000 - 25000 per annum + Excellent Benefits</td>\n",
              "      <td>24000</td>\n",
              "      <td>totaljobs.com</td>\n",
              "      <td>10.085851</td>\n",
              "    </tr>\n",
              "  </tbody>\n",
              "</table>\n",
              "</div>\n",
              "      <button class=\"colab-df-convert\" onclick=\"convertToInteractive('df-786adbe2-3657-4b1a-b002-30a21e595da8')\"\n",
              "              title=\"Convert this dataframe to an interactive table.\"\n",
              "              style=\"display:none;\">\n",
              "\n",
              "  <svg xmlns=\"http://www.w3.org/2000/svg\" height=\"24px\"viewBox=\"0 0 24 24\"\n",
              "       width=\"24px\">\n",
              "    <path d=\"M0 0h24v24H0V0z\" fill=\"none\"/>\n",
              "    <path d=\"M18.56 5.44l.94 2.06.94-2.06 2.06-.94-2.06-.94-.94-2.06-.94 2.06-2.06.94zm-11 1L8.5 8.5l.94-2.06 2.06-.94-2.06-.94L8.5 2.5l-.94 2.06-2.06.94zm10 10l.94 2.06.94-2.06 2.06-.94-2.06-.94-.94-2.06-.94 2.06-2.06.94z\"/><path d=\"M17.41 7.96l-1.37-1.37c-.4-.4-.92-.59-1.43-.59-.52 0-1.04.2-1.43.59L10.3 9.45l-7.72 7.72c-.78.78-.78 2.05 0 2.83L4 21.41c.39.39.9.59 1.41.59.51 0 1.02-.2 1.41-.59l7.78-7.78 2.81-2.81c.8-.78.8-2.07 0-2.86zM5.41 20L4 18.59l7.72-7.72 1.47 1.35L5.41 20z\"/>\n",
              "  </svg>\n",
              "      </button>\n",
              "\n",
              "\n",
              "\n",
              "    <div id=\"df-a470fdc8-7903-4d53-b339-c8557d079c74\">\n",
              "      <button class=\"colab-df-quickchart\" onclick=\"quickchart('df-a470fdc8-7903-4d53-b339-c8557d079c74')\"\n",
              "              title=\"Suggest charts.\"\n",
              "              style=\"display:none;\">\n",
              "\n",
              "<svg xmlns=\"http://www.w3.org/2000/svg\" height=\"24px\"viewBox=\"0 0 24 24\"\n",
              "     width=\"24px\">\n",
              "    <g>\n",
              "        <path d=\"M19 3H5c-1.1 0-2 .9-2 2v14c0 1.1.9 2 2 2h14c1.1 0 2-.9 2-2V5c0-1.1-.9-2-2-2zM9 17H7v-7h2v7zm4 0h-2V7h2v10zm4 0h-2v-4h2v4z\"/>\n",
              "    </g>\n",
              "</svg>\n",
              "      </button>\n",
              "    </div>\n",
              "\n",
              "<style>\n",
              "  .colab-df-quickchart {\n",
              "    background-color: #E8F0FE;\n",
              "    border: none;\n",
              "    border-radius: 50%;\n",
              "    cursor: pointer;\n",
              "    display: none;\n",
              "    fill: #1967D2;\n",
              "    height: 32px;\n",
              "    padding: 0 0 0 0;\n",
              "    width: 32px;\n",
              "  }\n",
              "\n",
              "  .colab-df-quickchart:hover {\n",
              "    background-color: #E2EBFA;\n",
              "    box-shadow: 0px 1px 2px rgba(60, 64, 67, 0.3), 0px 1px 3px 1px rgba(60, 64, 67, 0.15);\n",
              "    fill: #174EA6;\n",
              "  }\n",
              "\n",
              "  [theme=dark] .colab-df-quickchart {\n",
              "    background-color: #3B4455;\n",
              "    fill: #D2E3FC;\n",
              "  }\n",
              "\n",
              "  [theme=dark] .colab-df-quickchart:hover {\n",
              "    background-color: #434B5C;\n",
              "    box-shadow: 0px 1px 3px 1px rgba(0, 0, 0, 0.15);\n",
              "    filter: drop-shadow(0px 1px 2px rgba(0, 0, 0, 0.3));\n",
              "    fill: #FFFFFF;\n",
              "  }\n",
              "</style>\n",
              "\n",
              "    <script>\n",
              "      async function quickchart(key) {\n",
              "        const containerElement = document.querySelector('#' + key);\n",
              "        const charts = await google.colab.kernel.invokeFunction(\n",
              "            'suggestCharts', [key], {});\n",
              "      }\n",
              "    </script>\n",
              "\n",
              "      <script>\n",
              "\n",
              "function displayQuickchartButton(domScope) {\n",
              "  let quickchartButtonEl =\n",
              "    domScope.querySelector('#df-a470fdc8-7903-4d53-b339-c8557d079c74 button.colab-df-quickchart');\n",
              "  quickchartButtonEl.style.display =\n",
              "    google.colab.kernel.accessAllowed ? 'block' : 'none';\n",
              "}\n",
              "\n",
              "        displayQuickchartButton(document);\n",
              "      </script>\n",
              "      <style>\n",
              "    .colab-df-container {\n",
              "      display:flex;\n",
              "      flex-wrap:wrap;\n",
              "      gap: 12px;\n",
              "    }\n",
              "\n",
              "    .colab-df-convert {\n",
              "      background-color: #E8F0FE;\n",
              "      border: none;\n",
              "      border-radius: 50%;\n",
              "      cursor: pointer;\n",
              "      display: none;\n",
              "      fill: #1967D2;\n",
              "      height: 32px;\n",
              "      padding: 0 0 0 0;\n",
              "      width: 32px;\n",
              "    }\n",
              "\n",
              "    .colab-df-convert:hover {\n",
              "      background-color: #E2EBFA;\n",
              "      box-shadow: 0px 1px 2px rgba(60, 64, 67, 0.3), 0px 1px 3px 1px rgba(60, 64, 67, 0.15);\n",
              "      fill: #174EA6;\n",
              "    }\n",
              "\n",
              "    [theme=dark] .colab-df-convert {\n",
              "      background-color: #3B4455;\n",
              "      fill: #D2E3FC;\n",
              "    }\n",
              "\n",
              "    [theme=dark] .colab-df-convert:hover {\n",
              "      background-color: #434B5C;\n",
              "      box-shadow: 0px 1px 3px 1px rgba(0, 0, 0, 0.15);\n",
              "      filter: drop-shadow(0px 1px 2px rgba(0, 0, 0, 0.3));\n",
              "      fill: #FFFFFF;\n",
              "    }\n",
              "  </style>\n",
              "\n",
              "      <script>\n",
              "        const buttonEl =\n",
              "          document.querySelector('#df-786adbe2-3657-4b1a-b002-30a21e595da8 button.colab-df-convert');\n",
              "        buttonEl.style.display =\n",
              "          google.colab.kernel.accessAllowed ? 'block' : 'none';\n",
              "\n",
              "        async function convertToInteractive(key) {\n",
              "          const element = document.querySelector('#df-786adbe2-3657-4b1a-b002-30a21e595da8');\n",
              "          const dataTable =\n",
              "            await google.colab.kernel.invokeFunction('convertToInteractive',\n",
              "                                                     [key], {});\n",
              "          if (!dataTable) return;\n",
              "\n",
              "          const docLinkHtml = 'Like what you see? Visit the ' +\n",
              "            '<a target=\"_blank\" href=https://colab.research.google.com/notebooks/data_table.ipynb>data table notebook</a>'\n",
              "            + ' to learn more about interactive tables.';\n",
              "          element.innerHTML = '';\n",
              "          dataTable['output_type'] = 'display_data';\n",
              "          await google.colab.output.renderOutput(dataTable, element);\n",
              "          const docLink = document.createElement('div');\n",
              "          docLink.innerHTML = docLinkHtml;\n",
              "          element.appendChild(docLink);\n",
              "        }\n",
              "      </script>\n",
              "    </div>\n",
              "  </div>\n"
            ]
          },
          "metadata": {},
          "execution_count": 4
        }
      ],
      "source": [
        "text_columns = [\"Title\", \"FullDescription\"]\n",
        "categorical_columns = [\"Category\", \"Company\", \"LocationNormalized\", \"ContractType\", \"ContractTime\"]\n",
        "target_column = \"Log1pSalary\"\n",
        "\n",
        "data[categorical_columns] = data[categorical_columns].fillna('NaN') # cast missing values to string \"NaN\"\n",
        "\n",
        "data.sample(3)"
      ]
    },
    {
      "cell_type": "markdown",
      "metadata": {
        "id": "_OIFfyLRyxX5"
      },
      "source": [
        "### Preprocessing text data\n",
        "\n",
        "Just like last week, applying NLP to a problem begins from tokenization: splitting raw text into sequences of tokens (words, punctuation, etc).\n",
        "\n",
        "__Your task__ is to lowercase and tokenize all texts under `Title` and `FullDescription` columns. Store the tokenized data as a __space-separated__ string of tokens for performance reasons.\n",
        "\n",
        "It's okay to use nltk tokenizers. Assertions were designed for WordPunctTokenizer, slight deviations are okay."
      ]
    },
    {
      "cell_type": "code",
      "execution_count": null,
      "metadata": {
        "colab": {
          "base_uri": "https://localhost:8080/"
        },
        "id": "VXSSLihPyxX6",
        "outputId": "16f717fd-e18b-4ec3-a597-955349c40296"
      },
      "outputs": [
        {
          "output_type": "stream",
          "name": "stdout",
          "text": [
            "Raw text:\n",
            "2         Mathematical Modeller / Simulation Analyst / O...\n",
            "100002    A successful and high achieving specialist sch...\n",
            "200002    Web Designer  HTML, CSS, JavaScript, Photoshop...\n",
            "Name: FullDescription, dtype: object\n"
          ]
        }
      ],
      "source": [
        "print(\"Raw text:\")\n",
        "print(data[\"FullDescription\"][2::100000])"
      ]
    },
    {
      "cell_type": "code",
      "source": [
        "data['Title']"
      ],
      "metadata": {
        "colab": {
          "base_uri": "https://localhost:8080/"
        },
        "id": "4WLwlz6zz5is",
        "outputId": "e0932e82-0446-4c6b-949d-cafa0da474d6"
      },
      "execution_count": null,
      "outputs": [
        {
          "output_type": "execute_result",
          "data": {
            "text/plain": [
              "0                               Engineering Systems Analyst\n",
              "1                                   Stress Engineer Glasgow\n",
              "2                          Modelling and simulation analyst\n",
              "3         Engineering Systems Analyst / Mathematical Mod...\n",
              "4                Pioneer, Miser Engineering Systems Analyst\n",
              "                                ...                        \n",
              "244763                                   TEACHER OF SCIENCE\n",
              "244764                  TEACHER OF BUSINESS STUDIES AND ICT\n",
              "244765                                      ENGLISH TEACHER\n",
              "244766                                      SUPPLY TEACHERS\n",
              "244767                                           Accountant\n",
              "Name: Title, Length: 244768, dtype: object"
            ]
          },
          "metadata": {},
          "execution_count": 7
        }
      ]
    },
    {
      "cell_type": "code",
      "execution_count": null,
      "metadata": {
        "id": "tK1RICWPyxX6"
      },
      "outputs": [],
      "source": [
        "import nltk\n",
        "tokenizer = nltk.tokenize.WordPunctTokenizer()\n",
        "\n",
        "# see task above\n",
        "from nltk.tokenize import WordPunctTokenizer\n",
        "\n",
        "# Sample DataFrame with 'Title' and 'FullDescription' columns\n",
        "# Function to lowercase and tokenize the text using WordPunctTokenizer\n",
        "def tokenize_text(text):\n",
        "    if isinstance(text, str):  # Check if it's a string\n",
        "        tokenizer = WordPunctTokenizer()\n",
        "        tokens = tokenizer.tokenize(text.lower())\n",
        "        return \" \".join(tokens)\n",
        "    else:\n",
        "        return \"\"\n",
        "\n",
        "\n",
        "data['Title'] = data['Title'].apply(tokenize_text)\n",
        "data['FullDescription'] = data['FullDescription'].apply(tokenize_text)\n",
        "\n"
      ]
    },
    {
      "cell_type": "markdown",
      "metadata": {
        "id": "o9vPKI3AyxX6"
      },
      "source": [
        "Now we can assume that our text is a space-separated list of tokens:"
      ]
    },
    {
      "cell_type": "code",
      "execution_count": null,
      "metadata": {
        "colab": {
          "base_uri": "https://localhost:8080/"
        },
        "id": "wuoPkQC8yxX7",
        "outputId": "9702c8c8-bd4b-4a03-8e75-cd411383de97"
      },
      "outputs": [
        {
          "output_type": "stream",
          "name": "stdout",
          "text": [
            "Tokenized:\n",
            "2         mathematical modeller / simulation analyst / o...\n",
            "100002    a successful and high achieving specialist sch...\n",
            "200002    web designer html , css , javascript , photosh...\n",
            "Name: FullDescription, dtype: object\n"
          ]
        }
      ],
      "source": [
        "print(\"Tokenized:\")\n",
        "print(data[\"FullDescription\"][2::100000])\n",
        "assert data[\"FullDescription\"][2][:50] == 'mathematical modeller / simulation analyst / opera'\n",
        "assert data[\"Title\"][54321] == 'international digital account manager ( german )'"
      ]
    },
    {
      "cell_type": "markdown",
      "metadata": {
        "id": "qJohUj9ByxX7"
      },
      "source": [
        "Not all words are equally useful. Some of them are typos or rare words that are only present a few times.\n",
        "\n",
        "Let's count how many times is each word present in the data so that we can build a \"white list\" of known words."
      ]
    },
    {
      "cell_type": "code",
      "execution_count": null,
      "metadata": {
        "id": "Gpe1mhk4yxX7"
      },
      "outputs": [],
      "source": [
        "from collections import Counter\n",
        "# Count how many times does each token occur in both \"Title\" and \"FullDescription\" in total\n",
        "# build a dictionary { token -> it's count }\n",
        "title_list = data['Title'].values.tolist()\n",
        "desc_list = data['FullDescription'].values.tolist()\n",
        "full_list = title_list + desc_list\n",
        "\n",
        "def generate_words(full_list):\n",
        "    for string in full_list:\n",
        "        for word in string.split():\n",
        "            yield word\n",
        "\n",
        "list_of_words = list(generate_words(full_list))\n",
        "token_counts = Counter(list_of_words)\n",
        "#token_counts = dict(list_of_words)\n",
        "#token_counts = np.unique(list_of_words, return_counts=True)\n",
        "\n",
        "# hint: you may or may not want to use collections.Counter"
      ]
    },
    {
      "cell_type": "code",
      "execution_count": null,
      "metadata": {
        "colab": {
          "base_uri": "https://localhost:8080/"
        },
        "id": "vzAqfSxgyxX8",
        "outputId": "56bcc494-2890-4740-9055-221a150491eb"
      },
      "outputs": [
        {
          "output_type": "stream",
          "name": "stdout",
          "text": [
            "Total unique tokens : 202704\n",
            "('and', 2657388)\n",
            "('.', 2523216)\n",
            "(',', 2318606)\n",
            "('the', 2080994)\n",
            "('to', 2019884)\n",
            "...\n",
            "('stephanietraveltraderecruitmnt', 1)\n",
            "('ruabon', 1)\n",
            "('lowehays', 1)\n",
            "Correct!\n"
          ]
        }
      ],
      "source": [
        "print(\"Total unique tokens :\", len(token_counts))\n",
        "print('\\n'.join(map(str, token_counts.most_common(n=5))))\n",
        "print('...')\n",
        "print('\\n'.join(map(str, token_counts.most_common()[-3:])))\n",
        "\n",
        "assert token_counts.most_common(1)[0][1] in  range(2600000, 2700000)\n",
        "assert len(token_counts) in range(200000, 210000)\n",
        "print('Correct!')"
      ]
    },
    {
      "cell_type": "code",
      "execution_count": null,
      "metadata": {
        "colab": {
          "base_uri": "https://localhost:8080/",
          "height": 449
        },
        "id": "M_vRpVKeyxX8",
        "outputId": "2098ab66-8376-43e7-f073-5481f7daa15c"
      },
      "outputs": [
        {
          "output_type": "display_data",
          "data": {
            "text/plain": [
              "<Figure size 640x480 with 1 Axes>"
            ],
            "image/png": "[encoded data removed]"
          },
          "metadata": {}
        }
      ],
      "source": [
        "# Let's see how many words are there for each count\n",
        "plt.hist(list(token_counts.values()), range=[0, 10**4], bins=50, log=True)\n",
        "plt.xlabel(\"Word counts\");"
      ]
    },
    {
      "cell_type": "code",
      "source": [
        "dict_tokens = dict(token_counts)"
      ],
      "metadata": {
        "id": "_vxi9WMoHg6r"
      },
      "execution_count": null,
      "outputs": []
    },
    {
      "cell_type": "markdown",
      "metadata": {
        "id": "MOlM2cBwyxX9"
      },
      "source": [
        "Now filter tokens a list of all tokens that occur at least 10 times."
      ]
    },
    {
      "cell_type": "code",
      "execution_count": null,
      "metadata": {
        "id": "5kWew6LjyxX9"
      },
      "outputs": [],
      "source": [
        "min_count = 10\n",
        "\n",
        "# tokens from token_counts keys that had at least min_count occurrences throughout the dataset\n",
        "tokens = [keys for keys, values in dict_tokens.items() if values>=10]"
      ]
    },
    {
      "cell_type": "code",
      "source": [
        "dict_tokens_filtered = {keys: values for keys, values in dict_tokens.items() if values>=10}"
      ],
      "metadata": {
        "id": "-cNPBHGWJ5EO"
      },
      "execution_count": null,
      "outputs": []
    },
    {
      "cell_type": "code",
      "execution_count": null,
      "metadata": {
        "colab": {
          "base_uri": "https://localhost:8080/"
        },
        "id": "nhHUGYocyxX9",
        "outputId": "8a6d443d-4932-4eca-c3d9-4c9f07714e8f"
      },
      "outputs": [
        {
          "output_type": "stream",
          "name": "stdout",
          "text": [
            "Vocabulary size: 34158\n",
            "Correct!\n"
          ]
        }
      ],
      "source": [
        "# Add a special tokens for unknown and empty words\n",
        "UNK, PAD = \"UNK\", \"PAD\"\n",
        "tokens = [UNK, PAD] + sorted(tokens)\n",
        "print(\"Vocabulary size:\", len(tokens))\n",
        "\n",
        "assert type(tokens) == list\n",
        "assert len(tokens) in range(32000, 35000)\n",
        "assert 'me' in tokens\n",
        "assert UNK in tokens\n",
        "print(\"Correct!\")"
      ]
    },
    {
      "cell_type": "code",
      "source": [
        "len(tokens)"
      ],
      "metadata": {
        "colab": {
          "base_uri": "https://localhost:8080/"
        },
        "id": "Y_1I2LiDKqNI",
        "outputId": "2277db7e-b515-4cf6-f080-6b0caf4a5d13"
      },
      "execution_count": null,
      "outputs": [
        {
          "output_type": "execute_result",
          "data": {
            "text/plain": [
              "34158"
            ]
          },
          "metadata": {},
          "execution_count": 43
        }
      ]
    },
    {
      "cell_type": "markdown",
      "metadata": {
        "id": "CBh9_vFoyxX-"
      },
      "source": [
        "Build an inverse token index: a dictionary from token(string) to it's index in `tokens` (int)\n",
        "\n",
        "\n",
        "\n",
        "\n",
        "\n"
      ]
    },
    {
      "cell_type": "code",
      "execution_count": null,
      "metadata": {
        "id": "9kjO42KlyxX-"
      },
      "outputs": [],
      "source": [
        "#token_to_id = {value: key for key, value in dict_tokens.items()}\n",
        "#len(token_to_id)\n",
        "token_to_id = {token: index for index, token in enumerate(tokens)}\n"
      ]
    },
    {
      "cell_type": "code",
      "source": [
        "token_to_id"
      ],
      "metadata": {
        "colab": {
          "base_uri": "https://localhost:8080/"
        },
        "id": "4kYhtUCNNaT6",
        "outputId": "5d850b55-6643-40c5-8e35-97bbdc01f11d"
      },
      "execution_count": null,
      "outputs": [
        {
          "output_type": "execute_result",
          "data": {
            "text/plain": [
              "{'UNK': 0,\n",
              " 'PAD': 1,\n",
              " '\"': 2,\n",
              " '$': 3,\n",
              " '$****': 4,\n",
              " '$****$****': 5,\n",
              " '$****;': 6,\n",
              " '%': 7,\n",
              " '%)': 8,\n",
              " '%),': 9,\n",
              " '%).': 10,\n",
              " '%****': 11,\n",
              " '%,': 12,\n",
              " '%.': 13,\n",
              " '%/': 14,\n",
              " '%;': 15,\n",
              " '&': 16,\n",
              " '&****': 17,\n",
              " '&/': 18,\n",
              " \"'\": 19,\n",
              " \"'&\": 20,\n",
              " \"''\": 21,\n",
              " \"')\": 22,\n",
              " \"').\": 23,\n",
              " \"'****\": 24,\n",
              " \"'****'\": 25,\n",
              " \"',\": 26,\n",
              " \"'.\": 27,\n",
              " \"';\": 28,\n",
              " \"'>\": 29,\n",
              " \"'>****\": 30,\n",
              " \"'>•\": 31,\n",
              " \"'?\": 32,\n",
              " '(': 33,\n",
              " '($****': 34,\n",
              " '(%': 35,\n",
              " '(&': 36,\n",
              " \"('\": 37,\n",
              " '((': 38,\n",
              " '()': 39,\n",
              " '().': 40,\n",
              " '(****': 41,\n",
              " '(****%)': 42,\n",
              " '(****)': 43,\n",
              " '(****)(': 44,\n",
              " '(****)****': 45,\n",
              " '(****),': 46,\n",
              " '(****).': 47,\n",
              " '(********': 48,\n",
              " '(********)': 49,\n",
              " '(****/': 50,\n",
              " '(****/****': 51,\n",
              " '(****/****)': 52,\n",
              " '(****/****),': 53,\n",
              " '(****/****/****)': 54,\n",
              " '(****:': 55,\n",
              " '(****:****': 56,\n",
              " '(****:****)': 57,\n",
              " '(****:****:****)': 58,\n",
              " '(.': 59,\n",
              " '(>': 60,\n",
              " '(>****': 61,\n",
              " '(?)': 62,\n",
              " '(‘': 63,\n",
              " '(“': 64,\n",
              " ')': 65,\n",
              " ')&': 66,\n",
              " \")'\": 67,\n",
              " ')(': 68,\n",
              " '))': 69,\n",
              " ')).': 70,\n",
              " ')****': 71,\n",
              " '),': 72,\n",
              " ').': 73,\n",
              " ').•': 74,\n",
              " ')/': 75,\n",
              " '):': 76,\n",
              " ');': 77,\n",
              " ')>': 78,\n",
              " ')?': 79,\n",
              " ')–': 80,\n",
              " ')•': 81,\n",
              " '****': 82,\n",
              " '****%': 83,\n",
              " '****%)': 84,\n",
              " '****%,': 85,\n",
              " '****%.': 86,\n",
              " '****&': 87,\n",
              " '****&****': 88,\n",
              " \"****'\": 89,\n",
              " \"****'****\": 90,\n",
              " \"****'********'****\": 91,\n",
              " \"****',\": 92,\n",
              " \"****'>\": 93,\n",
              " '****(': 94,\n",
              " '****(****': 95,\n",
              " '****(****)': 96,\n",
              " '****(****)(': 97,\n",
              " '****(****)****': 98,\n",
              " '****)': 99,\n",
              " '****)****': 100,\n",
              " '****),': 101,\n",
              " '****).': 102,\n",
              " '****):': 103,\n",
              " '*******': 104,\n",
              " '********': 105,\n",
              " '********%': 106,\n",
              " '********)': 107,\n",
              " '************': 108,\n",
              " '********,': 109,\n",
              " '********.': 110,\n",
              " '********/': 111,\n",
              " '********?': 112,\n",
              " '****,': 113,\n",
              " '****.': 114,\n",
              " '****.****': 115,\n",
              " '****/': 116,\n",
              " '****/****': 117,\n",
              " '****/****)': 118,\n",
              " '****/****).': 119,\n",
              " '****/****/': 120,\n",
              " '****/****/****': 121,\n",
              " '****/****/****)': 122,\n",
              " '****/****/****/****': 123,\n",
              " '****/****:': 124,\n",
              " '****/****;': 125,\n",
              " '****:': 126,\n",
              " '****:****': 127,\n",
              " '****:****)': 128,\n",
              " '****:****),': 129,\n",
              " '****:****,': 130,\n",
              " '****:****:': 131,\n",
              " '****:****:****': 132,\n",
              " '****:****:****)': 133,\n",
              " '****:****;': 134,\n",
              " '****;': 135,\n",
              " '****;****': 136,\n",
              " '****?': 137,\n",
              " '****???': 138,\n",
              " '****[': 139,\n",
              " '****]': 140,\n",
              " '****`': 141,\n",
              " '****`****': 142,\n",
              " '****–': 143,\n",
              " '****–****': 144,\n",
              " '****’': 145,\n",
              " '****’****': 146,\n",
              " '****”': 147,\n",
              " '****…': 148,\n",
              " '++': 149,\n",
              " '++)': 150,\n",
              " '++),': 151,\n",
              " '++).': 152,\n",
              " '++,': 153,\n",
              " '++.': 154,\n",
              " '++/': 155,\n",
              " '++;': 156,\n",
              " '++?': 157,\n",
              " ',': 158,\n",
              " ',&': 159,\n",
              " ',(': 160,\n",
              " ',)': 161,\n",
              " ',).': 162,\n",
              " ',****': 163,\n",
              " ',,': 164,\n",
              " ',.': 165,\n",
              " ',/': 166,\n",
              " ',;': 167,\n",
              " ',??': 168,\n",
              " '.': 169,\n",
              " '.&': 170,\n",
              " \".'\": 171,\n",
              " '.(': 172,\n",
              " '.)': 173,\n",
              " '.),': 174,\n",
              " '.).': 175,\n",
              " '.);': 176,\n",
              " '.****': 177,\n",
              " '.****%': 178,\n",
              " '.****)': 179,\n",
              " '.********': 180,\n",
              " '.****/': 181,\n",
              " '.,': 182,\n",
              " './': 183,\n",
              " './/': 184,\n",
              " '.:': 185,\n",
              " '.;': 186,\n",
              " '.>': 187,\n",
              " '.?': 188,\n",
              " '.??': 189,\n",
              " '.]': 190,\n",
              " '.\\u200b': 191,\n",
              " '.’': 192,\n",
              " '.”': 193,\n",
              " '.•': 194,\n",
              " '.\\uf0a7': 195,\n",
              " '.\\uf0b7': 196,\n",
              " '/': 197,\n",
              " '/(': 198,\n",
              " '/)': 199,\n",
              " '/****': 200,\n",
              " '/****)': 201,\n",
              " '/****).': 202,\n",
              " '/********/': 203,\n",
              " '/****/': 204,\n",
              " '/****/****': 205,\n",
              " '/****/****)': 206,\n",
              " '/****/****/': 207,\n",
              " '/****/****/****': 208,\n",
              " '/****:': 209,\n",
              " '/****?': 210,\n",
              " '/.': 211,\n",
              " '//': 212,\n",
              " '///////': 213,\n",
              " '/>': 214,\n",
              " '/?': 215,\n",
              " '0': 216,\n",
              " '00': 217,\n",
              " '000': 218,\n",
              " '00025': 219,\n",
              " '000company': 220,\n",
              " '000market': 221,\n",
              " '000multi': 222,\n",
              " '000my': 223,\n",
              " '000the': 224,\n",
              " '001': 225,\n",
              " '005': 226,\n",
              " '00am': 227,\n",
              " '00am2': 228,\n",
              " '00am3': 229,\n",
              " '00am4': 230,\n",
              " '00am5': 231,\n",
              " '00am6': 232,\n",
              " '00m': 233,\n",
              " '00pm': 234,\n",
              " '00pm9': 235,\n",
              " '01': 236,\n",
              " '010': 237,\n",
              " '011': 238,\n",
              " '011737015': 239,\n",
              " '01189520151': 240,\n",
              " '012': 241,\n",
              " '013': 242,\n",
              " '014': 243,\n",
              " '015': 244,\n",
              " '019': 245,\n",
              " '02': 246,\n",
              " '03': 247,\n",
              " '04': 248,\n",
              " '044': 249,\n",
              " '046': 250,\n",
              " '05': 251,\n",
              " '05years': 252,\n",
              " '06': 253,\n",
              " '07': 254,\n",
              " '07788318687': 255,\n",
              " '08': 256,\n",
              " '0800': 257,\n",
              " '09': 258,\n",
              " '0am': 259,\n",
              " '0bed': 260,\n",
              " '0k': 261,\n",
              " '0m': 262,\n",
              " '0mq': 263,\n",
              " '0pm': 264,\n",
              " '1': 265,\n",
              " '10': 266,\n",
              " '100': 267,\n",
              " '1000': 268,\n",
              " '100k': 269,\n",
              " '100m': 270,\n",
              " '100million': 271,\n",
              " '1012': 272,\n",
              " '1015': 273,\n",
              " '102': 274,\n",
              " '1020': 275,\n",
              " '106': 276,\n",
              " '106pm': 277,\n",
              " '107': 278,\n",
              " '108': 279,\n",
              " '109': 280,\n",
              " '10am': 281,\n",
              " '10am2pm': 282,\n",
              " '10am3pm': 283,\n",
              " '10am4pm': 284,\n",
              " '10am5pm': 285,\n",
              " '10am6': 286,\n",
              " '10am6pm': 287,\n",
              " '10am7pm': 288,\n",
              " '10bn': 289,\n",
              " '10g': 290,\n",
              " '10hrs': 291,\n",
              " '10k': 292,\n",
              " '10m': 293,\n",
              " '10million': 294,\n",
              " '10pm': 295,\n",
              " '10pm6am': 296,\n",
              " '10th': 297,\n",
              " '10years': 298,\n",
              " '11': 299,\n",
              " '110': 300,\n",
              " '1116': 301,\n",
              " '1118': 302,\n",
              " '112': 303,\n",
              " '113': 304,\n",
              " '115': 305,\n",
              " '11am': 306,\n",
              " '11g': 307,\n",
              " '11i': 308,\n",
              " '11pm': 309,\n",
              " '11th': 310,\n",
              " '12': 311,\n",
              " '120': 312,\n",
              " '120m': 313,\n",
              " '1215': 314,\n",
              " '1216': 315,\n",
              " '1218': 316,\n",
              " '1224': 317,\n",
              " '125': 318,\n",
              " '128pm': 319,\n",
              " '12am': 320,\n",
              " '12m': 321,\n",
              " '12month': 322,\n",
              " '12months': 323,\n",
              " '12mths': 324,\n",
              " '12pm': 325,\n",
              " '12pm2pm': 326,\n",
              " '12pm8pm': 327,\n",
              " '12th': 328,\n",
              " '13': 329,\n",
              " '130': 330,\n",
              " '130m': 331,\n",
              " '13485': 332,\n",
              " '135': 333,\n",
              " '136': 334,\n",
              " '13jan13': 335,\n",
              " '13mk': 336,\n",
              " '13th': 337,\n",
              " '14': 338,\n",
              " '140': 339,\n",
              " '14001': 340,\n",
              " '145': 341,\n",
              " '14688': 342,\n",
              " '14689': 343,\n",
              " '147': 344,\n",
              " '149': 345,\n",
              " '14feb13': 346,\n",
              " '14m': 347,\n",
              " '14th': 348,\n",
              " '15': 349,\n",
              " '150': 350,\n",
              " '1500': 351,\n",
              " '15022': 352,\n",
              " '150m': 353,\n",
              " '1520': 354,\n",
              " '154': 355,\n",
              " '156': 356,\n",
              " '15am': 357,\n",
              " '15m': 358,\n",
              " '15million': 359,\n",
              " '15pm': 360,\n",
              " '15th': 361,\n",
              " '16': 362,\n",
              " '160': 363,\n",
              " '1600': 364,\n",
              " '163': 365,\n",
              " '1630': 366,\n",
              " '165million': 367,\n",
              " '16bit': 368,\n",
              " '16m': 369,\n",
              " '16th': 370,\n",
              " '17': 371,\n",
              " '170': 372,\n",
              " '1700': 373,\n",
              " '17025': 374,\n",
              " '1730': 375,\n",
              " '175': 376,\n",
              " '176': 377,\n",
              " '17m': 378,\n",
              " '17pm': 379,\n",
              " '17th': 380,\n",
              " '17week': 381,\n",
              " '18': 382,\n",
              " '180': 383,\n",
              " '1800': 384,\n",
              " '18000': 385,\n",
              " '18001': 386,\n",
              " '1824': 387,\n",
              " '183': 388,\n",
              " '185': 389,\n",
              " '18k': 390,\n",
              " '18m': 391,\n",
              " '18months': 392,\n",
              " '18th': 393,\n",
              " '19': 394,\n",
              " '190': 395,\n",
              " '197': 396,\n",
              " '1973': 397,\n",
              " '1974': 398,\n",
              " '1976': 399,\n",
              " '1978': 400,\n",
              " '1980': 401,\n",
              " '1982': 402,\n",
              " '1983': 403,\n",
              " '1984': 404,\n",
              " '1985': 405,\n",
              " '1986': 406,\n",
              " '1987': 407,\n",
              " '1988': 408,\n",
              " '1989': 409,\n",
              " '199': 410,\n",
              " '1990': 411,\n",
              " '1991': 412,\n",
              " '1992': 413,\n",
              " '1993': 414,\n",
              " '1994': 415,\n",
              " '1995': 416,\n",
              " '1996': 417,\n",
              " '1997': 418,\n",
              " '1998': 419,\n",
              " '1999': 420,\n",
              " '19jan13': 421,\n",
              " '19th': 422,\n",
              " '1a': 423,\n",
              " '1aa': 424,\n",
              " '1am': 425,\n",
              " '1b': 426,\n",
              " '1bn': 427,\n",
              " '1k': 428,\n",
              " '1lp': 429,\n",
              " '1m': 430,\n",
              " '1million': 431,\n",
              " '1nn': 432,\n",
              " '1nx': 433,\n",
              " '1pgrjobs': 434,\n",
              " '1pm': 435,\n",
              " '1pm3': 436,\n",
              " '1st': 437,\n",
              " '1st3rd': 438,\n",
              " '1stassistantmanager_job': 439,\n",
              " '1stplacegraduaterecruitment': 440,\n",
              " '1week': 441,\n",
              " '1years': 442,\n",
              " '2': 443,\n",
              " '20': 444,\n",
              " '200': 445,\n",
              " '2000': 446,\n",
              " '20000': 447,\n",
              " '2001': 448,\n",
              " '2002': 449,\n",
              " '20022': 450,\n",
              " '2003': 451,\n",
              " '2004': 452,\n",
              " '2005': 453,\n",
              " '2006': 454,\n",
              " '2007': 455,\n",
              " '2008': 456,\n",
              " '2008r': 457,\n",
              " '2008r2': 458,\n",
              " '2009': 459,\n",
              " '200m': 460,\n",
              " '200million': 461,\n",
              " '201': 462,\n",
              " '2010': 463,\n",
              " '2011': 464,\n",
              " '2011number': 465,\n",
              " '2012': 466,\n",
              " '2013': 467,\n",
              " '2013interview': 468,\n",
              " '2013the': 469,\n",
              " '2014': 470,\n",
              " '2015': 471,\n",
              " '201513': 472,\n",
              " '2016': 473,\n",
              " '2017': 474,\n",
              " '2018': 475,\n",
              " '2019': 476,\n",
              " '202011': 477,\n",
              " '2025': 478,\n",
              " '2030': 479,\n",
              " '20a': 480,\n",
              " '20annex': 481,\n",
              " '20application': 482,\n",
              " '20convictions': 483,\n",
              " '20days': 484,\n",
              " '20feb': 485,\n",
              " '20form': 486,\n",
              " '20hrs': 487,\n",
              " '20jan13': 488,\n",
              " '20k': 489,\n",
              " '20m': 490,\n",
              " '20million': 491,\n",
              " '20pm': 492,\n",
              " '20th': 493,\n",
              " '21': 494,\n",
              " '210': 495,\n",
              " '21st': 496,\n",
              " '22': 497,\n",
              " '220': 498,\n",
              " '22000': 499,\n",
              " '22k': 500,\n",
              " '22nd': 501,\n",
              " '23': 502,\n",
              " '23000': 503,\n",
              " '230strong': 504,\n",
              " '237': 505,\n",
              " '23feb': 506,\n",
              " '23rd': 507,\n",
              " '24': 508,\n",
              " '240': 509,\n",
              " '24hour': 510,\n",
              " '24th': 511,\n",
              " '25': 512,\n",
              " '250': 513,\n",
              " '250450': 514,\n",
              " '250m': 515,\n",
              " '2530': 516,\n",
              " '25days': 517,\n",
              " '25hrs': 518,\n",
              " '25k': 519,\n",
              " '25m': 520,\n",
              " '25million': 521,\n",
              " '25th': 522,\n",
              " '26': 523,\n",
              " '260': 524,\n",
              " '26262': 525,\n",
              " '2630': 526,\n",
              " '26jan': 527,\n",
              " '26th': 528,\n",
              " '27': 529,\n",
              " '27000': 530,\n",
              " '27001': 531,\n",
              " '275': 532,\n",
              " '279': 533,\n",
              " '27jan': 534,\n",
              " '27k': 535,\n",
              " '27m': 536,\n",
              " '27th': 537,\n",
              " '28': 538,\n",
              " '280': 539,\n",
              " '28k': 540,\n",
              " '28pm': 541,\n",
              " '28th': 542,\n",
              " '29': 543,\n",
              " '29th': 544,\n",
              " '2aa': 545,\n",
              " '2am': 546,\n",
              " '2b': 547,\n",
              " '2bn': 548,\n",
              " '2d': 549,\n",
              " '2form': 550,\n",
              " '2hrs': 551,\n",
              " '2ju': 552,\n",
              " '2k': 553,\n",
              " '2m': 554,\n",
              " '2million': 555,\n",
              " '2months': 556,\n",
              " '2nd': 557,\n",
              " '2ndline': 558,\n",
              " '2pm': 559,\n",
              " '2pm10pm': 560,\n",
              " '2week': 561,\n",
              " '2x': 562,\n",
              " '2years': 563,\n",
              " '2yrs': 564,\n",
              " '3': 565,\n",
              " '30': 566,\n",
              " '300': 567,\n",
              " '300m': 568,\n",
              " '300million': 569,\n",
              " '3035': 570,\n",
              " '3035k': 571,\n",
              " '304': 572,\n",
              " '3040': 573,\n",
              " '305': 574,\n",
              " '3050': 575,\n",
              " '305pm': 576,\n",
              " '306': 577,\n",
              " '306pm': 578,\n",
              " '308': 579,\n",
              " '309pm': 580,\n",
              " '30am': 581,\n",
              " '30am1': 582,\n",
              " '30am12': 583,\n",
              " '30am1pm': 584,\n",
              " '30am3': 585,\n",
              " '30am4': 586,\n",
              " '30am4pm': 587,\n",
              " '30am5': 588,\n",
              " '30am5pm': 589,\n",
              " '30am6': 590,\n",
              " '30am6pm': 591,\n",
              " '30am8': 592,\n",
              " '30children': 593,\n",
              " '30countries': 594,\n",
              " '30hrs': 595,\n",
              " '30k': 596,\n",
              " '30m': 597,\n",
              " '30million': 598,\n",
              " '30pm': 599,\n",
              " '30pm7': 600,\n",
              " '30pm8': 601,\n",
              " '30pm9': 602,\n",
              " '30pm9pm': 603,\n",
              " '30th': 604,\n",
              " '31': 605,\n",
              " '310': 606,\n",
              " '312': 607,\n",
              " '31st': 608,\n",
              " '32': 609,\n",
              " '320': 610,\n",
              " '32bit': 611,\n",
              " '33': 612,\n",
              " '333': 613,\n",
              " '336': 614,\n",
              " '33k': 615,\n",
              " '34': 616,\n",
              " '340': 617,\n",
              " '35': 618,\n",
              " '350': 619,\n",
              " '35000': 620,\n",
              " '350m': 621,\n",
              " '35635': 622,\n",
              " '35k': 623,\n",
              " '35m': 624,\n",
              " '36': 625,\n",
              " '360': 626,\n",
              " '365': 627,\n",
              " '36months': 628,\n",
              " '37': 629,\n",
              " '371': 630,\n",
              " '37hour': 631,\n",
              " '37hrs': 632,\n",
              " '38': 633,\n",
              " '39': 634,\n",
              " '39hrs': 635,\n",
              " '3aa': 636,\n",
              " '3am': 637,\n",
              " '3bn': 638,\n",
              " '3d': 639,\n",
              " '3days': 640,\n",
              " '3e': 641,\n",
              " '3g': 642,\n",
              " '3gpp': 643,\n",
              " '3k': 644,\n",
              " '3m': 645,\n",
              " '3million': 646,\n",
              " '3month': 647,\n",
              " '3months': 648,\n",
              " '3par': 649,\n",
              " '3pl': 650,\n",
              " '3pm': 651,\n",
              " '3pm11pm': 652,\n",
              " '3rd': 653,\n",
              " '3rdparty': 654,\n",
              " '3x': 655,\n",
              " '3years': 656,\n",
              " '3yrs': 657,\n",
              " '4': 658,\n",
              " '40': 659,\n",
              " '400': 660,\n",
              " '4000': 661,\n",
              " '40000': 662,\n",
              " '400m': 663,\n",
              " '4045': 664,\n",
              " '40hrs': 665,\n",
              " '40k': 666,\n",
              " '40m': 667,\n",
              " '40million': 668,\n",
              " '41': 669,\n",
              " '410': 670,\n",
              " '415': 671,\n",
              " '42': 672,\n",
              " '43': 673,\n",
              " '44': 674,\n",
              " '45': 675,\n",
              " '450': 676,\n",
              " '4550': 677,\n",
              " '45am': 678,\n",
              " '45am6pm': 679,\n",
              " '45k': 680,\n",
              " '45m': 681,\n",
              " '45pm': 682,\n",
              " '46': 683,\n",
              " '47': 684,\n",
              " '48': 685,\n",
              " '48pm': 686,\n",
              " '49': 687,\n",
              " '4am': 688,\n",
              " '4children': 689,\n",
              " '4d': 690,\n",
              " '4days': 691,\n",
              " '4hrs': 692,\n",
              " '4k': 693,\n",
              " '4m': 694,\n",
              " '4million': 695,\n",
              " '4off': 696,\n",
              " '4on': 697,\n",
              " '4pm': 698,\n",
              " '4pm8pm': 699,\n",
              " '4social': 700,\n",
              " '4star': 701,\n",
              " '4th': 702,\n",
              " '4week': 703,\n",
              " '5': 704,\n",
              " '50': 705,\n",
              " '500': 706,\n",
              " '500m': 707,\n",
              " '5060': 708,\n",
              " '50am': 709,\n",
              " '50k': 710,\n",
              " '50m': 711,\n",
              " '50million': 712,\n",
              " '50pm': 713,\n",
              " '51': 714,\n",
              " '510': 715,\n",
              " '515': 716,\n",
              " '52': 717,\n",
              " '53': 718,\n",
              " '530pm': 719,\n",
              " '54': 720,\n",
              " '55': 721,\n",
              " '550m': 722,\n",
              " '551': 723,\n",
              " '55th': 724,\n",
              " '56': 725,\n",
              " '57': 726,\n",
              " '58': 727,\n",
              " '59': 728,\n",
              " '59pm': 729,\n",
              " '5am': 730,\n",
              " '5billion': 731,\n",
              " '5days': 732,\n",
              " '5hours': 733,\n",
              " '5hrs': 734,\n",
              " '5k': 735,\n",
              " '5m': 736,\n",
              " '5mb': 737,\n",
              " '5million': 738,\n",
              " '5pm': 739,\n",
              " '5pm9pm': 740,\n",
              " '5q': 741,\n",
              " '5s': 742,\n",
              " '5star': 743,\n",
              " '5th': 744,\n",
              " '5why': 745,\n",
              " '5x': 746,\n",
              " '5y': 747,\n",
              " '5years': 748,\n",
              " '5yrs': 749,\n",
              " '6': 750,\n",
              " '60': 751,\n",
              " '600': 752,\n",
              " '600m': 753,\n",
              " '60k': 754,\n",
              " '60m': 755,\n",
              " '61': 756,\n",
              " '610': 757,\n",
              " '610am': 758,\n",
              " '612': 759,\n",
              " '61656': 760,\n",
              " '62': 761,\n",
              " '63': 762,\n",
              " '64': 763,\n",
              " '64bit': 764,\n",
              " '65': 765,\n",
              " '65365': 766,\n",
              " '65822': 767,\n",
              " '65m': 768,\n",
              " '66': 769,\n",
              " '67': 770,\n",
              " '670': 771,\n",
              " '68': 772,\n",
              " '68am': 773,\n",
              " '69': 774,\n",
              " '69am': 775,\n",
              " '6am': 776,\n",
              " '6am2pm': 777,\n",
              " '6am6pm': 778,\n",
              " '6jb': 779,\n",
              " '6k': 780,\n",
              " '6m': 781,\n",
              " '6million': 782,\n",
              " '6month': 783,\n",
              " '6months': 784,\n",
              " '6pm': 785,\n",
              " '6pm6am': 786,\n",
              " '6th': 787,\n",
              " '6weeks': 788,\n",
              " '7': 789,\n",
              " '70': 790,\n",
              " '700': 791,\n",
              " '7000': 792,\n",
              " '70m': 793,\n",
              " '71': 794,\n",
              " '710': 795,\n",
              " '712': 796,\n",
              " '72': 797,\n",
              " '73': 798,\n",
              " '74': 799,\n",
              " '75': 800,\n",
              " '750': 801,\n",
              " '750m': 802,\n",
              " '75m': 803,\n",
              " '76': 804,\n",
              " '77': 805,\n",
              " '78': 806,\n",
              " '79': 807,\n",
              " '7am': 808,\n",
              " '7am10am': 809,\n",
              " '7am11am': 810,\n",
              " '7am11pm': 811,\n",
              " '7am2pm': 812,\n",
              " '7am3': 813,\n",
              " '7am3pm': 814,\n",
              " '7am4pm': 815,\n",
              " '7am5pm': 816,\n",
              " '7am7pm': 817,\n",
              " '7days': 818,\n",
              " '7k': 819,\n",
              " '7m': 820,\n",
              " '7million': 821,\n",
              " '7pm': 822,\n",
              " '7pm7am': 823,\n",
              " '7th': 824,\n",
              " '8': 825,\n",
              " '80': 826,\n",
              " '800': 827,\n",
              " '80800': 828,\n",
              " '8090': 829,\n",
              " '80m': 830,\n",
              " '81': 831,\n",
              " '810': 832,\n",
              " '812': 833,\n",
              " '82': 834,\n",
              " '8226': 835,\n",
              " '8232': 836,\n",
              " '83': 837,\n",
              " '84': 838,\n",
              " '85': 839,\n",
              " '850m': 840,\n",
              " '85pm': 841,\n",
              " '86': 842,\n",
              " '87': 843,\n",
              " '88': 844,\n",
              " '88pm': 845,\n",
              " '89': 846,\n",
              " '896': 847,\n",
              " '8a': 848,\n",
              " '8am': 849,\n",
              " '8am12pm': 850,\n",
              " '8am1pm': 851,\n",
              " '8am2pm': 852,\n",
              " '8am4': 853,\n",
              " '8am4pm': 854,\n",
              " '8am5': 855,\n",
              " '8am5pm': 856,\n",
              " '8am6pm': 857,\n",
              " '8am7pm': 858,\n",
              " '8am8pm': 859,\n",
              " '8am9pm': 860,\n",
              " '8c': 861,\n",
              " '8d': 862,\n",
              " '8m': 863,\n",
              " '8pm': 864,\n",
              " '8pm8am': 865,\n",
              " '8sb': 866,\n",
              " '8th': 867,\n",
              " '9': 868,\n",
              " '90': 869,\n",
              " '900': 870,\n",
              " '9000': 871,\n",
              " '9001': 872,\n",
              " '9001en': 873,\n",
              " '9002': 874,\n",
              " '90day': 875,\n",
              " '90m': 876,\n",
              " '91': 877,\n",
              " '912': 878,\n",
              " '92': 879,\n",
              " '93': 880,\n",
              " '9320100': 881,\n",
              " '94': 882,\n",
              " '95': 883,\n",
              " '95pm': 884,\n",
              " '96': 885,\n",
              " '9632': 886,\n",
              " '96pm': 887,\n",
              " '97': 888,\n",
              " '98': 889,\n",
              " '99': 890,\n",
              " '997': 891,\n",
              " '998': 892,\n",
              " '9am': 893,\n",
              " '9am12pm': 894,\n",
              " '9am1pm': 895,\n",
              " '9am2pm': 896,\n",
              " '9am3pm': 897,\n",
              " '9am4pm': 898,\n",
              " '9am5': 899,\n",
              " '9am5pm': 900,\n",
              " '9am6pm': 901,\n",
              " '9am9pm': 902,\n",
              " '9months': 903,\n",
              " '9ph': 904,\n",
              " '9pm': 905,\n",
              " '9th': 906,\n",
              " ':': 907,\n",
              " ':&': 908,\n",
              " \":'\": 909,\n",
              " ':(': 910,\n",
              " ':)': 911,\n",
              " ':****': 912,\n",
              " ':****)': 913,\n",
              " ':********': 914,\n",
              " ':****/': 915,\n",
              " ':****/****': 916,\n",
              " ':****/****/': 917,\n",
              " ':****:': 918,\n",
              " ':****:****': 919,\n",
              " ':,': 920,\n",
              " ':.': 921,\n",
              " ':/': 922,\n",
              " '://': 923,\n",
              " '::': 924,\n",
              " ':>': 925,\n",
              " ':?': 926,\n",
              " ':•': 927,\n",
              " ';': 928,\n",
              " ';)': 929,\n",
              " ';****': 930,\n",
              " ';****/': 931,\n",
              " ';****;****;': 932,\n",
              " ';,': 933,\n",
              " ';.': 934,\n",
              " ';;': 935,\n",
              " ';•': 936,\n",
              " '<': 937,\n",
              " '>': 938,\n",
              " '>****': 939,\n",
              " '>>': 940,\n",
              " '>>>': 941,\n",
              " '>??': 942,\n",
              " '?': 943,\n",
              " \"?'\": 944,\n",
              " '?)': 945,\n",
              " '?).': 946,\n",
              " '?****': 947,\n",
              " '?,': 948,\n",
              " '?.': 949,\n",
              " '?:': 950,\n",
              " '??': 951,\n",
              " '??,': 952,\n",
              " '??.': 953,\n",
              " '???': 954,\n",
              " '????': 955,\n",
              " '??????': 956,\n",
              " '??????????': 957,\n",
              " '????????????': 958,\n",
              " '??????????????': 959,\n",
              " '?”': 960,\n",
              " '[': 961,\n",
              " ']': 962,\n",
              " '],': 963,\n",
              " '],****': 964,\n",
              " '].': 965,\n",
              " ']/': 966,\n",
              " ']:': 967,\n",
              " '^': 968,\n",
              " '_': 969,\n",
              " '__': 970,\n",
              " '_____________________': 971,\n",
              " '___________________________': 972,\n",
              " '________________________________________': 973,\n",
              " '______________________________________________________________________________': 974,\n",
              " '_a': 975,\n",
              " '_experience': 976,\n",
              " '_job': 977,\n",
              " '`': 978,\n",
              " '`,': 979,\n",
              " '`.': 980,\n",
              " '``': 981,\n",
              " 'a': 982,\n",
              " 'a1': 983,\n",
              " 'a1cae': 984,\n",
              " 'a2': 985,\n",
              " 'a24': 986,\n",
              " 'a24connect': 987,\n",
              " 'a3': 988,\n",
              " 'a4': 989,\n",
              " 'a400m': 990,\n",
              " 'a4e': 991,\n",
              " 'a4lfw4l': 992,\n",
              " 'a4lg': 993,\n",
              " 'aa': 994,\n",
              " 'aaa': 995,\n",
              " 'aaad': 996,\n",
              " 'aaappointments': 997,\n",
              " 'aab': 998,\n",
              " 'aac': 999,\n",
              " ...}"
            ]
          },
          "metadata": {},
          "execution_count": 51
        }
      ]
    },
    {
      "cell_type": "code",
      "execution_count": null,
      "metadata": {
        "colab": {
          "base_uri": "https://localhost:8080/"
        },
        "id": "nIIEezJ1yxX-",
        "outputId": "740fc84e-76a6-4af0-c8bd-b90ae0eb0539"
      },
      "outputs": [
        {
          "output_type": "stream",
          "name": "stdout",
          "text": [
            "Correct!\n"
          ]
        }
      ],
      "source": [
        "assert isinstance(token_to_id, dict)\n",
        "assert len(token_to_id) == len(tokens)\n",
        "for tok in tokens:\n",
        "    assert tokens[token_to_id[tok]] == tok\n",
        "\n",
        "print(\"Correct!\")"
      ]
    },
    {
      "cell_type": "markdown",
      "metadata": {
        "id": "JySgILkxyxX_"
      },
      "source": [
        "And finally, let's use the vocabulary you've built to map text lines into neural network-digestible matrices."
      ]
    },
    {
      "cell_type": "code",
      "execution_count": null,
      "metadata": {
        "id": "pGl0TBtbyxX_"
      },
      "outputs": [],
      "source": [
        "UNK_IX, PAD_IX = map(token_to_id.get, [UNK, PAD])\n",
        "\n",
        "def as_matrix(sequences, max_len=None):\n",
        "    \"\"\" Convert a list of tokens into a matrix with padding \"\"\"\n",
        "    if isinstance(sequences[0], str):\n",
        "        sequences = list(map(str.split, sequences))\n",
        "\n",
        "    max_len = min(max(map(len, sequences)), max_len or float('inf'))\n",
        "\n",
        "    matrix = np.full((len(sequences), max_len), np.int32(PAD_IX))\n",
        "    for i,seq in enumerate(sequences):\n",
        "        row_ix = [token_to_id.get(word, UNK_IX) for word in seq[:max_len]]\n",
        "        matrix[i, :len(row_ix)] = row_ix\n",
        "\n",
        "    return matrix"
      ]
    },
    {
      "cell_type": "code",
      "execution_count": null,
      "metadata": {
        "colab": {
          "base_uri": "https://localhost:8080/"
        },
        "id": "qssGzaySyxX_",
        "outputId": "8b245e40-e058-45f5-e68f-7bd534660ab2"
      },
      "outputs": [
        {
          "output_type": "stream",
          "name": "stdout",
          "text": [
            "Lines:\n",
            "engineering systems analyst\n",
            "hr assistant\n",
            "senior ec & i engineer\n",
            "\n",
            "Matrix:\n",
            "[[10807 30161  2166     1     1]\n",
            " [15020  2844     1     1     1]\n",
            " [27645 10201    16 15215 10804]]\n"
          ]
        }
      ],
      "source": [
        "print(\"Lines:\")\n",
        "print('\\n'.join(data[\"Title\"][::100000].values), end='\\n\\n')\n",
        "print(\"Matrix:\")\n",
        "print(as_matrix(data[\"Title\"][::100000]))"
      ]
    },
    {
      "cell_type": "markdown",
      "metadata": {
        "id": "7FZRboZKyxX_"
      },
      "source": [
        "Now let's  encode the categirical data we have.\n",
        "\n",
        "As usual, we shall use one-hot encoding for simplicity. Kudos if you use more advanced encodings: tf-idf, pretrained w2v etc."
      ]
    },
    {
      "cell_type": "code",
      "execution_count": null,
      "metadata": {
        "colab": {
          "base_uri": "https://localhost:8080/",
          "height": 74
        },
        "id": "-VK0NnBeyxYA",
        "outputId": "2f10e9d3-c163-42de-b14b-8dfd91dd4c88"
      },
      "outputs": [
        {
          "output_type": "execute_result",
          "data": {
            "text/plain": [
              "DictVectorizer(dtype=<class 'numpy.float32'>, sparse=False)"
            ],
            "text/html": [
              "<style>#sk-container-id-1 {color: black;background-color: white;}#sk-container-id-1 pre{padding: 0;}#sk-container-id-1 div.sk-toggleable {background-color: white;}#sk-container-id-1 label.sk-toggleable__label {cursor: pointer;display: block;width: 100%;margin-bottom: 0;padding: 0.3em;box-sizing: border-box;text-align: center;}#sk-container-id-1 label.sk-toggleable__label-arrow:before {content: \"▸\";float: left;margin-right: 0.25em;color: #696969;}#sk-container-id-1 label.sk-toggleable__label-arrow:hover:before {color: black;}#sk-container-id-1 div.sk-estimator:hover label.sk-toggleable__label-arrow:before {color: black;}#sk-container-id-1 div.sk-toggleable__content {max-height: 0;max-width: 0;overflow: hidden;text-align: left;background-color: #f0f8ff;}#sk-container-id-1 div.sk-toggleable__content pre {margin: 0.2em;color: black;border-radius: 0.25em;background-color: #f0f8ff;}#sk-container-id-1 input.sk-toggleable__control:checked~div.sk-toggleable__content {max-height: 200px;max-width: 100%;overflow: auto;}#sk-container-id-1 input.sk-toggleable__control:checked~label.sk-toggleable__label-arrow:before {content: \"▾\";}#sk-container-id-1 div.sk-estimator input.sk-toggleable__control:checked~label.sk-toggleable__label {background-color: #d4ebff;}#sk-container-id-1 div.sk-label input.sk-toggleable__control:checked~label.sk-toggleable__label {background-color: #d4ebff;}#sk-container-id-1 input.sk-hidden--visually {border: 0;clip: rect(1px 1px 1px 1px);clip: rect(1px, 1px, 1px, 1px);height: 1px;margin: -1px;overflow: hidden;padding: 0;position: absolute;width: 1px;}#sk-container-id-1 div.sk-estimator {font-family: monospace;background-color: #f0f8ff;border: 1px dotted black;border-radius: 0.25em;box-sizing: border-box;margin-bottom: 0.5em;}#sk-container-id-1 div.sk-estimator:hover {background-color: #d4ebff;}#sk-container-id-1 div.sk-parallel-item::after {content: \"\";width: 100%;border-bottom: 1px solid gray;flex-grow: 1;}#sk-container-id-1 div.sk-label:hover label.sk-toggleable__label {background-color: #d4ebff;}#sk-container-id-1 div.sk-serial::before {content: \"\";position: absolute;border-left: 1px solid gray;box-sizing: border-box;top: 0;bottom: 0;left: 50%;z-index: 0;}#sk-container-id-1 div.sk-serial {display: flex;flex-direction: column;align-items: center;background-color: white;padding-right: 0.2em;padding-left: 0.2em;position: relative;}#sk-container-id-1 div.sk-item {position: relative;z-index: 1;}#sk-container-id-1 div.sk-parallel {display: flex;align-items: stretch;justify-content: center;background-color: white;position: relative;}#sk-container-id-1 div.sk-item::before, #sk-container-id-1 div.sk-parallel-item::before {content: \"\";position: absolute;border-left: 1px solid gray;box-sizing: border-box;top: 0;bottom: 0;left: 50%;z-index: -1;}#sk-container-id-1 div.sk-parallel-item {display: flex;flex-direction: column;z-index: 1;position: relative;background-color: white;}#sk-container-id-1 div.sk-parallel-item:first-child::after {align-self: flex-end;width: 50%;}#sk-container-id-1 div.sk-parallel-item:last-child::after {align-self: flex-start;width: 50%;}#sk-container-id-1 div.sk-parallel-item:only-child::after {width: 0;}#sk-container-id-1 div.sk-dashed-wrapped {border: 1px dashed gray;margin: 0 0.4em 0.5em 0.4em;box-sizing: border-box;padding-bottom: 0.4em;background-color: white;}#sk-container-id-1 div.sk-label label {font-family: monospace;font-weight: bold;display: inline-block;line-height: 1.2em;}#sk-container-id-1 div.sk-label-container {text-align: center;}#sk-container-id-1 div.sk-container {/* jupyter's `normalize.less` sets `[hidden] { display: none; }` but bootstrap.min.css set `[hidden] { display: none !important; }` so we also need the `!important` here to be able to override the default hidden behavior on the sphinx rendered scikit-learn.org. See: https://github.com/scikit-learn/scikit-learn/issues/21755 */display: inline-block !important;position: relative;}#sk-container-id-1 div.sk-text-repr-fallback {display: none;}</style><div id=\"sk-container-id-1\" class=\"sk-top-container\"><div class=\"sk-text-repr-fallback\"><pre>DictVectorizer(dtype=&lt;class &#x27;numpy.float32&#x27;&gt;, sparse=False)</pre><b>In a Jupyter environment, please rerun this cell to show the HTML representation or trust the notebook. <br />On GitHub, the HTML representation is unable to render, please try loading this page with nbviewer.org.</b></div><div class=\"sk-container\" hidden><div class=\"sk-item\"><div class=\"sk-estimator sk-toggleable\"><input class=\"sk-toggleable__control sk-hidden--visually\" id=\"sk-estimator-id-1\" type=\"checkbox\" checked><label for=\"sk-estimator-id-1\" class=\"sk-toggleable__label sk-toggleable__label-arrow\">DictVectorizer</label><div class=\"sk-toggleable__content\"><pre>DictVectorizer(dtype=&lt;class &#x27;numpy.float32&#x27;&gt;, sparse=False)</pre></div></div></div></div></div>"
            ]
          },
          "metadata": {},
          "execution_count": 55
        }
      ],
      "source": [
        "from sklearn.feature_extraction import DictVectorizer\n",
        "\n",
        "# we only consider top-1k most frequent companies to minimize memory usage\n",
        "top_companies, top_counts = zip(*Counter(data['Company']).most_common(1000))\n",
        "recognized_companies = set(top_companies)\n",
        "data[\"Company\"] = data[\"Company\"].apply(lambda comp: comp if comp in recognized_companies else \"Other\")\n",
        "\n",
        "categorical_vectorizer = DictVectorizer(dtype=np.float32, sparse=False)\n",
        "categorical_vectorizer.fit(data[categorical_columns].apply(dict, axis=1))"
      ]
    },
    {
      "cell_type": "markdown",
      "metadata": {
        "id": "MPRNQSTxyxYA"
      },
      "source": [
        "### The deep learning part\n",
        "\n",
        "Once we've learned to tokenize the data, let's design a machine learning experiment.\n",
        "\n",
        "As before, we won't focus too much on validation, opting for a simple train-test split.\n",
        "\n",
        "__To be completely rigorous,__ we've comitted a small crime here: we used the whole data for tokenization and vocabulary building. A more strict way would be to do that part on training set only. You may want to do that and measure the magnitude of changes."
      ]
    },
    {
      "cell_type": "code",
      "execution_count": null,
      "metadata": {
        "colab": {
          "base_uri": "https://localhost:8080/"
        },
        "id": "gj0mWoM6yxYA",
        "outputId": "d3167f45-bd56-48ad-baa2-7bbc4ff1110e"
      },
      "outputs": [
        {
          "output_type": "stream",
          "name": "stdout",
          "text": [
            "Train size =  195814\n",
            "Validation size =  48954\n"
          ]
        }
      ],
      "source": [
        "from sklearn.model_selection import train_test_split\n",
        "\n",
        "data_train, data_val = train_test_split(data, test_size=0.2, random_state=42)\n",
        "data_train.index = range(len(data_train))\n",
        "data_val.index = range(len(data_val))\n",
        "\n",
        "print(\"Train size = \", len(data_train))\n",
        "print(\"Validation size = \", len(data_val))"
      ]
    },
    {
      "cell_type": "code",
      "execution_count": null,
      "metadata": {
        "id": "O3mNkdcuyxYA"
      },
      "outputs": [],
      "source": [
        "def make_batch(data, max_len=None, word_dropout=0):\n",
        "    \"\"\"\n",
        "    Creates a keras-friendly dict from the batch data.\n",
        "    :param word_dropout: replaces token index with UNK_IX with this probability\n",
        "    :returns: a dict with {'title' : int64[batch, title_max_len]\n",
        "    \"\"\"\n",
        "    batch = {}\n",
        "    batch[\"Title\"] = as_matrix(data[\"Title\"].values, max_len)\n",
        "    batch[\"FullDescription\"] = as_matrix(data[\"FullDescription\"].values, max_len)\n",
        "    batch['Categorical'] = categorical_vectorizer.transform(data[categorical_columns].apply(dict, axis=1))\n",
        "\n",
        "    if word_dropout != 0:\n",
        "        batch[\"FullDescription\"] = apply_word_dropout(batch[\"FullDescription\"], 1. - word_dropout)\n",
        "\n",
        "    if target_column in data.columns:\n",
        "        batch[target_column] = data[target_column].values\n",
        "\n",
        "    return batch\n",
        "\n",
        "def apply_word_dropout(matrix, keep_prop, replace_with=UNK_IX, pad_ix=PAD_IX,):\n",
        "    dropout_mask = np.random.choice(2, np.shape(matrix), p=[keep_prop, 1 - keep_prop])\n",
        "    dropout_mask &= matrix != pad_ix\n",
        "    return np.choose(dropout_mask, [matrix, np.full_like(matrix, replace_with)])"
      ]
    },
    {
      "cell_type": "code",
      "execution_count": null,
      "metadata": {
        "colab": {
          "base_uri": "https://localhost:8080/"
        },
        "id": "im6nQbQ2yxYB",
        "outputId": "6ee6cd94-0775-433a-f777-cfa7318cffab"
      },
      "outputs": [
        {
          "output_type": "execute_result",
          "data": {
            "text/plain": [
              "{'Title': array([[27645, 29893, 33674,     1,     1,     1,     1],\n",
              "        [29239,   197, 19175, 20042, 15554, 23162,  4051],\n",
              "        [10609, 30412, 17746,    33,  8705, 29157,    65]], dtype=int32),\n",
              " 'FullDescription': array([[27645, 29893, 33674, 32939,   982, 27645, 29893, 33674, 16451,\n",
              "         32939],\n",
              "        [29239,   197, 19175, 20042, 15554, 23162,  4051, 25511,   907,\n",
              "            82],\n",
              "        [30746, 21956, 20601,  6409, 16451,  8165, 27493,   982, 30412,\n",
              "         17746]], dtype=int32),\n",
              " 'Categorical': array([[0., 0., 0., ..., 0., 0., 0.],\n",
              "        [0., 0., 0., ..., 0., 0., 0.],\n",
              "        [0., 0., 0., ..., 0., 0., 0.]], dtype=float32),\n",
              " 'Log1pSalary': array([ 9.71154 , 10.463132, 10.71444 ], dtype=float32)}"
            ]
          },
          "metadata": {},
          "execution_count": 58
        }
      ],
      "source": [
        "make_batch(data_train[:3], max_len=10)"
      ]
    },
    {
      "cell_type": "markdown",
      "metadata": {
        "id": "lmM5ITMfyxYB"
      },
      "source": [
        "#### Architecture\n",
        "\n",
        "Our basic model consists of three branches:\n",
        "* Title encoder\n",
        "* Description encoder\n",
        "* Categorical features encoder\n",
        "\n",
        "We will then feed all 3 branches into one common network that predicts salary.\n",
        "\n",
        "<img src=\"https://github.com/yandexdataschool/nlp_course/raw/master/resources/w2_conv_arch.png\" width=600px>"
      ]
    },
    {
      "cell_type": "markdown",
      "metadata": {
        "id": "jo_EGJslyxYB"
      },
      "source": [
        "This clearly doesn't fit into keras' __Sequential__ interface. To build such a network, one will have to use __[Keras Functional API](https://keras.io/models/model/)__."
      ]
    },
    {
      "cell_type": "code",
      "execution_count": null,
      "metadata": {
        "id": "XCndDQNbyxYB"
      },
      "outputs": [],
      "source": [
        "import keras\n",
        "import keras.layers as L"
      ]
    },
    {
      "cell_type": "code",
      "execution_count": null,
      "metadata": {
        "id": "JR6eyqWsyxYB"
      },
      "outputs": [],
      "source": [
        "def build_model(n_tokens=len(tokens), n_cat_features=len(categorical_vectorizer.vocabulary_), hid_size=64):\n",
        "    \"\"\" Build a model that maps three data sources to a single linear output: predicted log1p(salary) \"\"\"\n",
        "\n",
        "    # Input layers for Title, FullDescription, and Categorical features\n",
        "    l_title = L.Input(shape=[None], name=\"Title\")\n",
        "    l_descr = L.Input(shape=[None], name=\"FullDescription\")\n",
        "    l_categ = L.Input(shape=[n_cat_features], name=\"Categorical\")\n",
        "\n",
        "    emb_title = L.Embedding(input_dim=n_tokens, output_dim=hid_size)(l_title)\n",
        "    title_lstm = L.LSTM(hid_size)(emb_title)\n",
        "    emb_descr = L.Embedding(input_dim=n_tokens, output_dim=hid_size)(l_descr)\n",
        "    descr_lstm = L.LSTM(hid_size)(emb_descr)\n",
        "    categ_dense = L.Dense(hid_size)(l_categ)\n",
        "    concat_layer = L.Concatenate()([title_lstm, descr_lstm, categ_dense])\n",
        "    output_layer = L.Dense(1)(concat_layer)\n",
        "\n",
        "    model = keras.models.Model(inputs=[l_title, l_descr, l_categ], outputs=[output_layer])\n",
        "\n",
        "    model.compile(optimizer='adam', loss='mean_squared_error', metrics=['mean_absolute_error'])\n",
        "\n",
        "    return model\n"
      ]
    },
    {
      "cell_type": "code",
      "execution_count": null,
      "metadata": {
        "colab": {
          "base_uri": "https://localhost:8080/"
        },
        "id": "RxFZiXniyxYB",
        "outputId": "0c0eb1e6-79d2-4c87-9d4d-730ee9aab851"
      },
      "outputs": [
        {
          "output_type": "stream",
          "name": "stdout",
          "text": [
            "Model: \"model\"\n",
            "__________________________________________________________________________________________________\n",
            " Layer (type)                   Output Shape         Param #     Connected to                     \n",
            "==================================================================================================\n",
            " Title (InputLayer)             [(None, None)]       0           []                               \n",
            "                                                                                                  \n",
            " FullDescription (InputLayer)   [(None, None)]       0           []                               \n",
            "                                                                                                  \n",
            " embedding (Embedding)          (None, None, 64)     2186112     ['Title[0][0]']                  \n",
            "                                                                                                  \n",
            " embedding_1 (Embedding)        (None, None, 64)     2186112     ['FullDescription[0][0]']        \n",
            "                                                                                                  \n",
            " Categorical (InputLayer)       [(None, 3768)]       0           []                               \n",
            "                                                                                                  \n",
            " lstm (LSTM)                    (None, 64)           33024       ['embedding[0][0]']              \n",
            "                                                                                                  \n",
            " lstm_1 (LSTM)                  (None, 64)           33024       ['embedding_1[0][0]']            \n",
            "                                                                                                  \n",
            " dense (Dense)                  (None, 64)           241216      ['Categorical[0][0]']            \n",
            "                                                                                                  \n",
            " concatenate (Concatenate)      (None, 192)          0           ['lstm[0][0]',                   \n",
            "                                                                  'lstm_1[0][0]',                 \n",
            "                                                                  'dense[0][0]']                  \n",
            "                                                                                                  \n",
            " dense_1 (Dense)                (None, 1)            193         ['concatenate[0][0]']            \n",
            "                                                                                                  \n",
            "==================================================================================================\n",
            "Total params: 4,679,681\n",
            "Trainable params: 4,679,681\n",
            "Non-trainable params: 0\n",
            "__________________________________________________________________________________________________\n"
          ]
        },
        {
          "output_type": "stream",
          "name": "stderr",
          "text": [
            "/usr/local/lib/python3.10/dist-packages/keras/engine/functional.py:639: UserWarning: Input dict contained keys ['Log1pSalary'] which did not match any model input. They will be ignored by the model.\n",
            "  inputs = self._flatten_to_reference_inputs(inputs)\n"
          ]
        },
        {
          "output_type": "stream",
          "name": "stdout",
          "text": [
            "4/4 [==============================] - 1s 87ms/step\n"
          ]
        },
        {
          "output_type": "stream",
          "name": "stderr",
          "text": [
            "/usr/local/lib/python3.10/dist-packages/keras/engine/functional.py:639: UserWarning: Input dict contained keys ['Log1pSalary'] which did not match any model input. They will be ignored by the model.\n",
            "  inputs = self._flatten_to_reference_inputs(inputs)\n"
          ]
        }
      ],
      "source": [
        "model = build_model()\n",
        "model.summary()\n",
        "\n",
        "dummy_pred = model.predict(make_batch(data_train[:100]))\n",
        "dummy_loss = model.train_on_batch(make_batch(data_train[:100]), data_train['Log1pSalary'][:100])[0]\n",
        "assert dummy_pred.shape == (100, 1)\n",
        "assert len(np.unique(dummy_pred)) > 20, \"model returns suspiciously few unique outputs. Check your initialization\"\n",
        "assert np.ndim(dummy_loss) == 0 and 0. <= dummy_loss <= 250., \"make sure you minimize MSE\""
      ]
    },
    {
      "cell_type": "markdown",
      "metadata": {
        "id": "vGhKs8IHyxYB"
      },
      "source": [
        "#### Training and evaluation\n",
        "\n",
        "As usual, we gonna feed our model with random minibatches of data.\n",
        "\n",
        "As we train, we want to monitor not only loss function, which is computed in log-space, but also the actual error measured in dollars."
      ]
    },
    {
      "cell_type": "code",
      "execution_count": null,
      "metadata": {
        "id": "eP6jurrNyxYC"
      },
      "outputs": [],
      "source": [
        "def iterate_minibatches(data, batch_size=256, shuffle=True, cycle=False, **kwargs):\n",
        "    \"\"\" iterates minibatches of data in random order \"\"\"\n",
        "    while True:\n",
        "        indices = np.arange(len(data))\n",
        "        if shuffle:\n",
        "            indices = np.random.permutation(indices)\n",
        "\n",
        "        for start in range(0, len(indices), batch_size):\n",
        "            batch = make_batch(data.iloc[indices[start : start + batch_size]], **kwargs)\n",
        "            target = batch.pop(target_column)\n",
        "            yield batch, target\n",
        "\n",
        "        if not cycle: break"
      ]
    },
    {
      "cell_type": "markdown",
      "source": [],
      "metadata": {
        "id": "cDjenRvSSTPO"
      }
    },
    {
      "cell_type": "markdown",
      "metadata": {
        "id": "LMpZPlZnyxYC"
      },
      "source": [
        "### Model training\n",
        "\n",
        "We can now fit our model the usual minibatch way. The interesting part is that we train on an infinite stream of minibatches, produced by `iterate_minibatches` function."
      ]
    },
    {
      "cell_type": "code",
      "execution_count": null,
      "metadata": {
        "colab": {
          "base_uri": "https://localhost:8080/",
          "height": 531
        },
        "id": "9rpK8LTOyxYC",
        "outputId": "7704d389-767c-466b-9106-e528d1677add"
      },
      "outputs": [
        {
          "output_type": "stream",
          "name": "stdout",
          "text": [
            "Epoch 1/10\n"
          ]
        },
        {
          "output_type": "stream",
          "name": "stderr",
          "text": [
            "<ipython-input-64-2cd289f91ed9>:7: UserWarning: `Model.fit_generator` is deprecated and will be removed in a future version. Please use `Model.fit`, which supports generators.\n",
            "  model.fit_generator(iterate_minibatches(data_train, batch_size, cycle=True, word_dropout=0.05),\n"
          ]
        },
        {
          "output_type": "stream",
          "name": "stdout",
          "text": [
            "100/100 [==============================] - 488s 5s/step - loss: 16.6419 - mean_absolute_error: 2.3173 - val_loss: 0.2219 - val_mean_absolute_error: 0.3780\n",
            "Epoch 2/10\n",
            "100/100 [==============================] - ETA: 0s - loss: 0.2071 - mean_absolute_error: 0.3631"
          ]
        },
        {
          "output_type": "error",
          "ename": "KeyboardInterrupt",
          "evalue": "ignored",
          "traceback": [
            "\u001b[0;31m---------------------------------------------------------------------------\u001b[0m",
            "\u001b[0;31mKeyboardInterrupt\u001b[0m                         Traceback (most recent call last)",
            "\u001b[0;32m<ipython-input-64-2cd289f91ed9>\u001b[0m in \u001b[0;36m<cell line: 7>\u001b[0;34m()\u001b[0m\n\u001b[1;32m      5\u001b[0m \u001b[0mmodel\u001b[0m \u001b[0;34m=\u001b[0m \u001b[0mbuild_model\u001b[0m\u001b[0;34m(\u001b[0m\u001b[0;34m)\u001b[0m\u001b[0;34m\u001b[0m\u001b[0;34m\u001b[0m\u001b[0m\n\u001b[1;32m      6\u001b[0m \u001b[0;34m\u001b[0m\u001b[0m\n\u001b[0;32m----> 7\u001b[0;31m model.fit_generator(iterate_minibatches(data_train, batch_size, cycle=True, word_dropout=0.05), \n\u001b[0m\u001b[1;32m      8\u001b[0m                     \u001b[0mepochs\u001b[0m\u001b[0;34m=\u001b[0m\u001b[0mepochs\u001b[0m\u001b[0;34m,\u001b[0m \u001b[0msteps_per_epoch\u001b[0m\u001b[0;34m=\u001b[0m\u001b[0msteps_per_epoch\u001b[0m\u001b[0;34m,\u001b[0m\u001b[0;34m\u001b[0m\u001b[0;34m\u001b[0m\u001b[0m\n\u001b[1;32m      9\u001b[0m \u001b[0;34m\u001b[0m\u001b[0m\n",
            "\u001b[0;32m/usr/local/lib/python3.10/dist-packages/keras/engine/training.py\u001b[0m in \u001b[0;36mfit_generator\u001b[0;34m(self, generator, steps_per_epoch, epochs, verbose, callbacks, validation_data, validation_steps, validation_freq, class_weight, max_queue_size, workers, use_multiprocessing, shuffle, initial_epoch)\u001b[0m\n\u001b[1;32m   2634\u001b[0m             \u001b[0mstacklevel\u001b[0m\u001b[0;34m=\u001b[0m\u001b[0;36m2\u001b[0m\u001b[0;34m,\u001b[0m\u001b[0;34m\u001b[0m\u001b[0;34m\u001b[0m\u001b[0m\n\u001b[1;32m   2635\u001b[0m         )\n\u001b[0;32m-> 2636\u001b[0;31m         return self.fit(\n\u001b[0m\u001b[1;32m   2637\u001b[0m             \u001b[0mgenerator\u001b[0m\u001b[0;34m,\u001b[0m\u001b[0;34m\u001b[0m\u001b[0;34m\u001b[0m\u001b[0m\n\u001b[1;32m   2638\u001b[0m             \u001b[0msteps_per_epoch\u001b[0m\u001b[0;34m=\u001b[0m\u001b[0msteps_per_epoch\u001b[0m\u001b[0;34m,\u001b[0m\u001b[0;34m\u001b[0m\u001b[0;34m\u001b[0m\u001b[0m\n",
            "\u001b[0;32m/usr/local/lib/python3.10/dist-packages/keras/utils/traceback_utils.py\u001b[0m in \u001b[0;36merror_handler\u001b[0;34m(*args, **kwargs)\u001b[0m\n\u001b[1;32m     63\u001b[0m         \u001b[0mfiltered_tb\u001b[0m \u001b[0;34m=\u001b[0m \u001b[0;32mNone\u001b[0m\u001b[0;34m\u001b[0m\u001b[0;34m\u001b[0m\u001b[0m\n\u001b[1;32m     64\u001b[0m         \u001b[0;32mtry\u001b[0m\u001b[0;34m:\u001b[0m\u001b[0;34m\u001b[0m\u001b[0;34m\u001b[0m\u001b[0m\n\u001b[0;32m---> 65\u001b[0;31m             \u001b[0;32mreturn\u001b[0m \u001b[0mfn\u001b[0m\u001b[0;34m(\u001b[0m\u001b[0;34m*\u001b[0m\u001b[0margs\u001b[0m\u001b[0;34m,\u001b[0m \u001b[0;34m**\u001b[0m\u001b[0mkwargs\u001b[0m\u001b[0;34m)\u001b[0m\u001b[0;34m\u001b[0m\u001b[0;34m\u001b[0m\u001b[0m\n\u001b[0m\u001b[1;32m     66\u001b[0m         \u001b[0;32mexcept\u001b[0m \u001b[0mException\u001b[0m \u001b[0;32mas\u001b[0m \u001b[0me\u001b[0m\u001b[0;34m:\u001b[0m\u001b[0;34m\u001b[0m\u001b[0;34m\u001b[0m\u001b[0m\n\u001b[1;32m     67\u001b[0m             \u001b[0mfiltered_tb\u001b[0m \u001b[0;34m=\u001b[0m \u001b[0m_process_traceback_frames\u001b[0m\u001b[0;34m(\u001b[0m\u001b[0me\u001b[0m\u001b[0;34m.\u001b[0m\u001b[0m__traceback__\u001b[0m\u001b[0;34m)\u001b[0m\u001b[0;34m\u001b[0m\u001b[0;34m\u001b[0m\u001b[0m\n",
            "\u001b[0;32m/usr/local/lib/python3.10/dist-packages/keras/engine/training.py\u001b[0m in \u001b[0;36mfit\u001b[0;34m(self, x, y, batch_size, epochs, verbose, callbacks, validation_split, validation_data, shuffle, class_weight, sample_weight, initial_epoch, steps_per_epoch, validation_steps, validation_batch_size, validation_freq, max_queue_size, workers, use_multiprocessing)\u001b[0m\n\u001b[1;32m   1727\u001b[0m                             \u001b[0msteps_per_execution\u001b[0m\u001b[0;34m=\u001b[0m\u001b[0mself\u001b[0m\u001b[0;34m.\u001b[0m\u001b[0m_steps_per_execution\u001b[0m\u001b[0;34m,\u001b[0m\u001b[0;34m\u001b[0m\u001b[0;34m\u001b[0m\u001b[0m\n\u001b[1;32m   1728\u001b[0m                         )\n\u001b[0;32m-> 1729\u001b[0;31m                     val_logs = self.evaluate(\n\u001b[0m\u001b[1;32m   1730\u001b[0m                         \u001b[0mx\u001b[0m\u001b[0;34m=\u001b[0m\u001b[0mval_x\u001b[0m\u001b[0;34m,\u001b[0m\u001b[0;34m\u001b[0m\u001b[0;34m\u001b[0m\u001b[0m\n\u001b[1;32m   1731\u001b[0m                         \u001b[0my\u001b[0m\u001b[0;34m=\u001b[0m\u001b[0mval_y\u001b[0m\u001b[0;34m,\u001b[0m\u001b[0;34m\u001b[0m\u001b[0;34m\u001b[0m\u001b[0m\n",
            "\u001b[0;32m/usr/local/lib/python3.10/dist-packages/keras/utils/traceback_utils.py\u001b[0m in \u001b[0;36merror_handler\u001b[0;34m(*args, **kwargs)\u001b[0m\n\u001b[1;32m     63\u001b[0m         \u001b[0mfiltered_tb\u001b[0m \u001b[0;34m=\u001b[0m \u001b[0;32mNone\u001b[0m\u001b[0;34m\u001b[0m\u001b[0;34m\u001b[0m\u001b[0m\n\u001b[1;32m     64\u001b[0m         \u001b[0;32mtry\u001b[0m\u001b[0;34m:\u001b[0m\u001b[0;34m\u001b[0m\u001b[0;34m\u001b[0m\u001b[0m\n\u001b[0;32m---> 65\u001b[0;31m             \u001b[0;32mreturn\u001b[0m \u001b[0mfn\u001b[0m\u001b[0;34m(\u001b[0m\u001b[0;34m*\u001b[0m\u001b[0margs\u001b[0m\u001b[0;34m,\u001b[0m \u001b[0;34m**\u001b[0m\u001b[0mkwargs\u001b[0m\u001b[0;34m)\u001b[0m\u001b[0;34m\u001b[0m\u001b[0;34m\u001b[0m\u001b[0m\n\u001b[0m\u001b[1;32m     66\u001b[0m         \u001b[0;32mexcept\u001b[0m \u001b[0mException\u001b[0m \u001b[0;32mas\u001b[0m \u001b[0me\u001b[0m\u001b[0;34m:\u001b[0m\u001b[0;34m\u001b[0m\u001b[0;34m\u001b[0m\u001b[0m\n\u001b[1;32m     67\u001b[0m             \u001b[0mfiltered_tb\u001b[0m \u001b[0;34m=\u001b[0m \u001b[0m_process_traceback_frames\u001b[0m\u001b[0;34m(\u001b[0m\u001b[0me\u001b[0m\u001b[0;34m.\u001b[0m\u001b[0m__traceback__\u001b[0m\u001b[0;34m)\u001b[0m\u001b[0;34m\u001b[0m\u001b[0;34m\u001b[0m\u001b[0m\n",
            "\u001b[0;32m/usr/local/lib/python3.10/dist-packages/keras/engine/training.py\u001b[0m in \u001b[0;36mevaluate\u001b[0;34m(self, x, y, batch_size, verbose, sample_weight, steps, callbacks, max_queue_size, workers, use_multiprocessing, return_dict, **kwargs)\u001b[0m\n\u001b[1;32m   2070\u001b[0m                         ):\n\u001b[1;32m   2071\u001b[0m                             \u001b[0mcallbacks\u001b[0m\u001b[0;34m.\u001b[0m\u001b[0mon_test_batch_begin\u001b[0m\u001b[0;34m(\u001b[0m\u001b[0mstep\u001b[0m\u001b[0;34m)\u001b[0m\u001b[0;34m\u001b[0m\u001b[0;34m\u001b[0m\u001b[0m\n\u001b[0;32m-> 2072\u001b[0;31m                             \u001b[0mtmp_logs\u001b[0m \u001b[0;34m=\u001b[0m \u001b[0mself\u001b[0m\u001b[0;34m.\u001b[0m\u001b[0mtest_function\u001b[0m\u001b[0;34m(\u001b[0m\u001b[0miterator\u001b[0m\u001b[0;34m)\u001b[0m\u001b[0;34m\u001b[0m\u001b[0;34m\u001b[0m\u001b[0m\n\u001b[0m\u001b[1;32m   2073\u001b[0m                             \u001b[0;32mif\u001b[0m \u001b[0mdata_handler\u001b[0m\u001b[0;34m.\u001b[0m\u001b[0mshould_sync\u001b[0m\u001b[0;34m:\u001b[0m\u001b[0;34m\u001b[0m\u001b[0;34m\u001b[0m\u001b[0m\n\u001b[1;32m   2074\u001b[0m                                 \u001b[0mcontext\u001b[0m\u001b[0;34m.\u001b[0m\u001b[0masync_wait\u001b[0m\u001b[0;34m(\u001b[0m\u001b[0;34m)\u001b[0m\u001b[0;34m\u001b[0m\u001b[0;34m\u001b[0m\u001b[0m\n",
            "\u001b[0;32m/usr/local/lib/python3.10/dist-packages/tensorflow/python/util/traceback_utils.py\u001b[0m in \u001b[0;36merror_handler\u001b[0;34m(*args, **kwargs)\u001b[0m\n\u001b[1;32m    148\u001b[0m     \u001b[0mfiltered_tb\u001b[0m \u001b[0;34m=\u001b[0m \u001b[0;32mNone\u001b[0m\u001b[0;34m\u001b[0m\u001b[0;34m\u001b[0m\u001b[0m\n\u001b[1;32m    149\u001b[0m     \u001b[0;32mtry\u001b[0m\u001b[0;34m:\u001b[0m\u001b[0;34m\u001b[0m\u001b[0;34m\u001b[0m\u001b[0m\n\u001b[0;32m--> 150\u001b[0;31m       \u001b[0;32mreturn\u001b[0m \u001b[0mfn\u001b[0m\u001b[0;34m(\u001b[0m\u001b[0;34m*\u001b[0m\u001b[0margs\u001b[0m\u001b[0;34m,\u001b[0m \u001b[0;34m**\u001b[0m\u001b[0mkwargs\u001b[0m\u001b[0;34m)\u001b[0m\u001b[0;34m\u001b[0m\u001b[0;34m\u001b[0m\u001b[0m\n\u001b[0m\u001b[1;32m    151\u001b[0m     \u001b[0;32mexcept\u001b[0m \u001b[0mException\u001b[0m \u001b[0;32mas\u001b[0m \u001b[0me\u001b[0m\u001b[0;34m:\u001b[0m\u001b[0;34m\u001b[0m\u001b[0;34m\u001b[0m\u001b[0m\n\u001b[1;32m    152\u001b[0m       \u001b[0mfiltered_tb\u001b[0m \u001b[0;34m=\u001b[0m \u001b[0m_process_traceback_frames\u001b[0m\u001b[0;34m(\u001b[0m\u001b[0me\u001b[0m\u001b[0;34m.\u001b[0m\u001b[0m__traceback__\u001b[0m\u001b[0;34m)\u001b[0m\u001b[0;34m\u001b[0m\u001b[0;34m\u001b[0m\u001b[0m\n",
            "\u001b[0;32m/usr/local/lib/python3.10/dist-packages/tensorflow/python/eager/polymorphic_function/polymorphic_function.py\u001b[0m in \u001b[0;36m__call__\u001b[0;34m(self, *args, **kwds)\u001b[0m\n\u001b[1;32m    892\u001b[0m \u001b[0;34m\u001b[0m\u001b[0m\n\u001b[1;32m    893\u001b[0m       \u001b[0;32mwith\u001b[0m \u001b[0mOptionalXlaContext\u001b[0m\u001b[0;34m(\u001b[0m\u001b[0mself\u001b[0m\u001b[0;34m.\u001b[0m\u001b[0m_jit_compile\u001b[0m\u001b[0;34m)\u001b[0m\u001b[0;34m:\u001b[0m\u001b[0;34m\u001b[0m\u001b[0;34m\u001b[0m\u001b[0m\n\u001b[0;32m--> 894\u001b[0;31m         \u001b[0mresult\u001b[0m \u001b[0;34m=\u001b[0m \u001b[0mself\u001b[0m\u001b[0;34m.\u001b[0m\u001b[0m_call\u001b[0m\u001b[0;34m(\u001b[0m\u001b[0;34m*\u001b[0m\u001b[0margs\u001b[0m\u001b[0;34m,\u001b[0m \u001b[0;34m**\u001b[0m\u001b[0mkwds\u001b[0m\u001b[0;34m)\u001b[0m\u001b[0;34m\u001b[0m\u001b[0;34m\u001b[0m\u001b[0m\n\u001b[0m\u001b[1;32m    895\u001b[0m \u001b[0;34m\u001b[0m\u001b[0m\n\u001b[1;32m    896\u001b[0m       \u001b[0mnew_tracing_count\u001b[0m \u001b[0;34m=\u001b[0m \u001b[0mself\u001b[0m\u001b[0;34m.\u001b[0m\u001b[0mexperimental_get_tracing_count\u001b[0m\u001b[0;34m(\u001b[0m\u001b[0;34m)\u001b[0m\u001b[0;34m\u001b[0m\u001b[0;34m\u001b[0m\u001b[0m\n",
            "\u001b[0;32m/usr/local/lib/python3.10/dist-packages/tensorflow/python/eager/polymorphic_function/polymorphic_function.py\u001b[0m in \u001b[0;36m_call\u001b[0;34m(self, *args, **kwds)\u001b[0m\n\u001b[1;32m    931\u001b[0m       \u001b[0;31m# In this case we have not created variables on the first call. So we can\u001b[0m\u001b[0;34m\u001b[0m\u001b[0;34m\u001b[0m\u001b[0m\n\u001b[1;32m    932\u001b[0m       \u001b[0;31m# run the first trace but we should fail if variables are created.\u001b[0m\u001b[0;34m\u001b[0m\u001b[0;34m\u001b[0m\u001b[0m\n\u001b[0;32m--> 933\u001b[0;31m       \u001b[0mresults\u001b[0m \u001b[0;34m=\u001b[0m \u001b[0mself\u001b[0m\u001b[0;34m.\u001b[0m\u001b[0m_variable_creation_fn\u001b[0m\u001b[0;34m(\u001b[0m\u001b[0;34m*\u001b[0m\u001b[0margs\u001b[0m\u001b[0;34m,\u001b[0m \u001b[0;34m**\u001b[0m\u001b[0mkwds\u001b[0m\u001b[0;34m)\u001b[0m\u001b[0;34m\u001b[0m\u001b[0;34m\u001b[0m\u001b[0m\n\u001b[0m\u001b[1;32m    934\u001b[0m       \u001b[0;32mif\u001b[0m \u001b[0mself\u001b[0m\u001b[0;34m.\u001b[0m\u001b[0m_created_variables\u001b[0m \u001b[0;32mand\u001b[0m \u001b[0;32mnot\u001b[0m \u001b[0mALLOW_DYNAMIC_VARIABLE_CREATION\u001b[0m\u001b[0;34m:\u001b[0m\u001b[0;34m\u001b[0m\u001b[0;34m\u001b[0m\u001b[0m\n\u001b[1;32m    935\u001b[0m         raise ValueError(\"Creating variables on a non-first call to a function\"\n",
            "\u001b[0;32m/usr/local/lib/python3.10/dist-packages/tensorflow/python/eager/polymorphic_function/tracing_compiler.py\u001b[0m in \u001b[0;36m__call__\u001b[0;34m(self, *args, **kwargs)\u001b[0m\n\u001b[1;32m    141\u001b[0m       (concrete_function,\n\u001b[1;32m    142\u001b[0m        filtered_flat_args) = self._maybe_define_function(args, kwargs)\n\u001b[0;32m--> 143\u001b[0;31m     return concrete_function._call_flat(\n\u001b[0m\u001b[1;32m    144\u001b[0m         filtered_flat_args, captured_inputs=concrete_function.captured_inputs)  # pylint: disable=protected-access\n\u001b[1;32m    145\u001b[0m \u001b[0;34m\u001b[0m\u001b[0m\n",
            "\u001b[0;32m/usr/local/lib/python3.10/dist-packages/tensorflow/python/eager/polymorphic_function/monomorphic_function.py\u001b[0m in \u001b[0;36m_call_flat\u001b[0;34m(self, args, captured_inputs, cancellation_manager)\u001b[0m\n\u001b[1;32m   1755\u001b[0m         and executing_eagerly):\n\u001b[1;32m   1756\u001b[0m       \u001b[0;31m# No tape is watching; skip to running the function.\u001b[0m\u001b[0;34m\u001b[0m\u001b[0;34m\u001b[0m\u001b[0m\n\u001b[0;32m-> 1757\u001b[0;31m       return self._build_call_outputs(self._inference_function.call(\n\u001b[0m\u001b[1;32m   1758\u001b[0m           ctx, args, cancellation_manager=cancellation_manager))\n\u001b[1;32m   1759\u001b[0m     forward_backward = self._select_forward_and_backward_functions(\n",
            "\u001b[0;32m/usr/local/lib/python3.10/dist-packages/tensorflow/python/eager/polymorphic_function/monomorphic_function.py\u001b[0m in \u001b[0;36mcall\u001b[0;34m(self, ctx, args, cancellation_manager)\u001b[0m\n\u001b[1;32m    379\u001b[0m       \u001b[0;32mwith\u001b[0m \u001b[0m_InterpolateFunctionError\u001b[0m\u001b[0;34m(\u001b[0m\u001b[0mself\u001b[0m\u001b[0;34m)\u001b[0m\u001b[0;34m:\u001b[0m\u001b[0;34m\u001b[0m\u001b[0;34m\u001b[0m\u001b[0m\n\u001b[1;32m    380\u001b[0m         \u001b[0;32mif\u001b[0m \u001b[0mcancellation_manager\u001b[0m \u001b[0;32mis\u001b[0m \u001b[0;32mNone\u001b[0m\u001b[0;34m:\u001b[0m\u001b[0;34m\u001b[0m\u001b[0;34m\u001b[0m\u001b[0m\n\u001b[0;32m--> 381\u001b[0;31m           outputs = execute.execute(\n\u001b[0m\u001b[1;32m    382\u001b[0m               \u001b[0mstr\u001b[0m\u001b[0;34m(\u001b[0m\u001b[0mself\u001b[0m\u001b[0;34m.\u001b[0m\u001b[0msignature\u001b[0m\u001b[0;34m.\u001b[0m\u001b[0mname\u001b[0m\u001b[0;34m)\u001b[0m\u001b[0;34m,\u001b[0m\u001b[0;34m\u001b[0m\u001b[0;34m\u001b[0m\u001b[0m\n\u001b[1;32m    383\u001b[0m               \u001b[0mnum_outputs\u001b[0m\u001b[0;34m=\u001b[0m\u001b[0mself\u001b[0m\u001b[0;34m.\u001b[0m\u001b[0m_num_outputs\u001b[0m\u001b[0;34m,\u001b[0m\u001b[0;34m\u001b[0m\u001b[0;34m\u001b[0m\u001b[0m\n",
            "\u001b[0;32m/usr/local/lib/python3.10/dist-packages/tensorflow/python/eager/execute.py\u001b[0m in \u001b[0;36mquick_execute\u001b[0;34m(op_name, num_outputs, inputs, attrs, ctx, name)\u001b[0m\n\u001b[1;32m     50\u001b[0m   \u001b[0;32mtry\u001b[0m\u001b[0;34m:\u001b[0m\u001b[0;34m\u001b[0m\u001b[0;34m\u001b[0m\u001b[0m\n\u001b[1;32m     51\u001b[0m     \u001b[0mctx\u001b[0m\u001b[0;34m.\u001b[0m\u001b[0mensure_initialized\u001b[0m\u001b[0;34m(\u001b[0m\u001b[0;34m)\u001b[0m\u001b[0;34m\u001b[0m\u001b[0;34m\u001b[0m\u001b[0m\n\u001b[0;32m---> 52\u001b[0;31m     tensors = pywrap_tfe.TFE_Py_Execute(ctx._handle, device_name, op_name,\n\u001b[0m\u001b[1;32m     53\u001b[0m                                         inputs, attrs, num_outputs)\n\u001b[1;32m     54\u001b[0m   \u001b[0;32mexcept\u001b[0m \u001b[0mcore\u001b[0m\u001b[0;34m.\u001b[0m\u001b[0m_NotOkStatusException\u001b[0m \u001b[0;32mas\u001b[0m \u001b[0me\u001b[0m\u001b[0;34m:\u001b[0m\u001b[0;34m\u001b[0m\u001b[0;34m\u001b[0m\u001b[0m\n",
            "\u001b[0;31mKeyboardInterrupt\u001b[0m: "
          ]
        }
      ],
      "source": [
        "batch_size = 256\n",
        "epochs = 10            # definitely too small\n",
        "steps_per_epoch = 100  # for full pass over data: (len(data_train) - 1) // batch_size + 1\n",
        "\n",
        "model = build_model()\n",
        "\n",
        "model.fit_generator(iterate_minibatches(data_train, batch_size, cycle=True, word_dropout=0.05),\n",
        "                    epochs=epochs, steps_per_epoch=steps_per_epoch,\n",
        "\n",
        "                    validation_data=iterate_minibatches(data_val, batch_size, cycle=True),\n",
        "                    validation_steps=data_val.shape[0] // batch_size\n",
        "                   )"
      ]
    },
    {
      "cell_type": "code",
      "execution_count": null,
      "metadata": {
        "id": "L_bCXadgyxYC"
      },
      "outputs": [],
      "source": [
        "def print_metrics(model, data, batch_size=batch_size, name=\"\", **kw):\n",
        "    squared_error = abs_error = num_samples = 0.0\n",
        "    for batch_x, batch_y in iterate_minibatches(data, batch_size=batch_size, shuffle=False, **kw):\n",
        "        batch_pred = model.predict(batch_x)[:, 0]\n",
        "        squared_error += np.sum(np.square(batch_pred - batch_y))\n",
        "        abs_error += np.sum(np.abs(batch_pred - batch_y))\n",
        "        num_samples += len(batch_y)\n",
        "    print(\"%s results:\" % (name or \"\"))\n",
        "    print(\"Mean square error: %.5f\" % (squared_error / num_samples))\n",
        "    print(\"Mean absolute error: %.5f\" % (abs_error / num_samples))\n",
        "    return squared_error, abs_error\n",
        "\n",
        "print_metrics(model, data_train, name='Train')\n",
        "print_metrics(model, data_val, name='Val');"
      ]
    },
    {
      "cell_type": "markdown",
      "metadata": {
        "id": "i3-ued5PyxYD"
      },
      "source": [
        "### Bonus part: explaining model predictions\n",
        "\n",
        "It's usually a good idea to understand how your model works before you let it make actual decisions. It's simple for linear models: just see which words learned positive or negative weights. However, its much harder for neural networks that learn complex nonlinear dependencies.\n",
        "\n",
        "There are, however, some ways to look inside the black box:\n",
        "* Seeing how model responds to input perturbations\n",
        "* Finding inputs that maximize/minimize activation of some chosen neurons (_read more [on distill.pub](https://distill.pub/2018/building-blocks/)_)\n",
        "* Building local linear approximations to your neural network: [article](https://arxiv.org/abs/1602.04938), [eli5 library](https://github.com/TeamHG-Memex/eli5/tree/master/eli5/formatters)\n",
        "\n",
        "Today we gonna try the first method just because it's the simplest one."
      ]
    },
    {
      "cell_type": "code",
      "execution_count": null,
      "metadata": {
        "id": "qAHVVk8cyxYD"
      },
      "outputs": [],
      "source": [
        "def explain(model, sample, col_name='Title'):\n",
        "    \"\"\" Computes the effect each word had on model predictions \"\"\"\n",
        "    sample = dict(sample)\n",
        "    sample_col_tokens = [tokens[token_to_id.get(tok, 0)] for tok in sample[col_name].split()]\n",
        "    data_drop_one_token = pd.DataFrame([sample] * (len(sample_col_tokens) + 1))\n",
        "\n",
        "    for drop_i in range(len(sample_col_tokens)):\n",
        "        data_drop_one_token.loc[drop_i, col_name] = ' '.join(UNK if i == drop_i else tok\n",
        "                                                   for i, tok in enumerate(sample_col_tokens))\n",
        "\n",
        "    *predictions_drop_one_token, baseline_pred = model.predict(make_batch(data_drop_one_token))[:, 0]\n",
        "    diffs = baseline_pred - predictions_drop_one_token\n",
        "    return list(zip(sample_col_tokens, diffs))"
      ]
    },
    {
      "cell_type": "code",
      "execution_count": null,
      "metadata": {
        "id": "acj0lVrmyxYD"
      },
      "outputs": [],
      "source": [
        "from IPython.display import HTML, display_html\n",
        "\n",
        "def draw_html(tokens_and_weights, cmap=plt.get_cmap(\"bwr\"), display=True,\n",
        "              token_template=\"\"\"<span style=\"background-color: {color_hex}\">{token}</span>\"\"\",\n",
        "              font_style=\"font-size:14px;\"\n",
        "             ):\n",
        "\n",
        "    def get_color_hex(weight):\n",
        "        rgba = cmap(1. / (1 + np.exp(weight)), bytes=True)\n",
        "        return '#%02X%02X%02X' % rgba[:3]\n",
        "\n",
        "    tokens_html = [\n",
        "        token_template.format(token=token, color_hex=get_color_hex(weight))\n",
        "        for token, weight in tokens_and_weights\n",
        "    ]\n",
        "\n",
        "\n",
        "    raw_html = \"\"\"<p style=\"{}\">{}</p>\"\"\".format(font_style, ' '.join(tokens_html))\n",
        "    if display:\n",
        "        display_html(HTML(raw_html))\n",
        "\n",
        "    return raw_html\n"
      ]
    },
    {
      "cell_type": "code",
      "execution_count": null,
      "metadata": {
        "id": "8ocfzBztyxYD"
      },
      "outputs": [],
      "source": [
        "i = 36605\n",
        "tokens_and_weights = explain(model, data.loc[i], \"Title\")\n",
        "draw_html([(tok, weight * 5) for tok, weight in tokens_and_weights], font_style='font-size:20px;');\n",
        "\n",
        "tokens_and_weights = explain(model, data.loc[i], \"FullDescription\")\n",
        "draw_html([(tok, weight * 10) for tok, weight in tokens_and_weights]);"
      ]
    },
    {
      "cell_type": "code",
      "execution_count": null,
      "metadata": {
        "id": "Ph4GFlntyxYD"
      },
      "outputs": [],
      "source": [
        "i = 12077\n",
        "tokens_and_weights = explain(model, data.loc[i], \"Title\")\n",
        "draw_html([(tok, weight * 5) for tok, weight in tokens_and_weights], font_style='font-size:20px;');\n",
        "\n",
        "tokens_and_weights = explain(model, data.loc[i], \"FullDescription\")\n",
        "draw_html([(tok, weight * 10) for tok, weight in tokens_and_weights]);"
      ]
    },
    {
      "cell_type": "code",
      "execution_count": null,
      "metadata": {
        "id": "q50jJ6iNyxYD"
      },
      "outputs": [],
      "source": [
        "i = np.random.randint(len(data))\n",
        "print(\"Index:\", i)\n",
        "print(\"Salary (gbp):\", np.expm1(model.predict(make_batch(data.iloc[i: i+1]))[0, 0]))\n",
        "\n",
        "tokens_and_weights = explain(model, data.loc[i], \"Title\")\n",
        "draw_html([(tok, weight * 5) for tok, weight in tokens_and_weights], font_style='font-size:20px;');\n",
        "\n",
        "tokens_and_weights = explain(model, data.loc[i], \"FullDescription\")\n",
        "draw_html([(tok, weight * 10) for tok, weight in tokens_and_weights]);"
      ]
    },
    {
      "cell_type": "markdown",
      "metadata": {
        "id": "0w4uX86ayxYE"
      },
      "source": [
        "__Terrible start-up idea #1962:__ make a tool that automaticaly rephrases your job description (or CV) to meet salary expectations :)"
      ]
    }
  ],
  "metadata": {
    "kernelspec": {
      "display_name": "Python 3",
      "name": "python3"
    },
    "language_info": {
      "codemirror_mode": {
        "name": "ipython",
        "version": 3
      },
      "file_extension": ".py",
      "mimetype": "text/x-python",
      "name": "python",
      "nbconvert_exporter": "python",
      "pygments_lexer": "ipython3",
      "version": "3.9.12"
    },
    "colab": {
      "provenance": [],
      "gpuType": "T4",
      "include_colab_link": true
    },
    "accelerator": "GPU"
  },
  "nbformat": 4,
  "nbformat_minor": 0
}