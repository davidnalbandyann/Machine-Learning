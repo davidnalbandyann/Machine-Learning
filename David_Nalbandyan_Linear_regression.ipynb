{
  "cells": [
    {
      "cell_type": "markdown",
      "metadata": {
        "id": "view-in-github",
        "colab_type": "text"
      },
      "source": [
        "<a href=\"https://colab.research.google.com/github/davidnalbandyann/ACA_homework/blob/main/David_Nalbandyan_Linear_regression.ipynb\" target=\"_parent\"><img src=\"https://colab.research.google.com/assets/colab-badge.svg\" alt=\"Open In Colab\"/></a>"
      ]
    },
    {
      "cell_type": "code",
      "execution_count": null,
      "metadata": {
        "id": "2_nnWS611soN"
      },
      "outputs": [],
      "source": [
        "import pandas as pd\n",
        "import numpy as np\n",
        "from sklearn import datasets, linear_model\n",
        "from sklearn.model_selection import train_test_split, KFold\n",
        "from matplotlib import pyplot as plt\n",
        "from sklearn.metrics import mean_squared_error, mean_absolute_error,  r2_score"
      ]
    },
    {
      "cell_type": "code",
      "source": [
        "from google.colab import files\n",
        "uploaded = files.upload()\n",
        "df=pd.read_csv(\"Ecommerce.csv\")"
      ],
      "metadata": {
        "colab": {
          "base_uri": "https://localhost:8080/",
          "height": 73
        },
        "id": "ne9_hTH06dhb",
        "outputId": "908dce7e-5f56-4bd5-87f8-ad7004c0c71b"
      },
      "execution_count": null,
      "outputs": [
        {
          "output_type": "display_data",
          "data": {
            "text/plain": [
              "<IPython.core.display.HTML object>"
            ],
            "text/html": [
              "\n",
              "     <input type=\"file\" id=\"files-aa0cc0b0-3ed2-4438-9ec1-0058dadc5b43\" name=\"files[]\" multiple disabled\n",
              "        style=\"border:none\" />\n",
              "     <output id=\"result-aa0cc0b0-3ed2-4438-9ec1-0058dadc5b43\">\n",
              "      Upload widget is only available when the cell has been executed in the\n",
              "      current browser session. Please rerun this cell to enable.\n",
              "      </output>\n",
              "      <script>// Copyright 2017 Google LLC\n",
              "//\n",
              "// Licensed under the Apache License, Version 2.0 (the \"License\");\n",
              "// you may not use this file except in compliance with the License.\n",
              "// You may obtain a copy of the License at\n",
              "//\n",
              "//      http://www.apache.org/licenses/LICENSE-2.0\n",
              "//\n",
              "// Unless required by applicable law or agreed to in writing, software\n",
              "// distributed under the License is distributed on an \"AS IS\" BASIS,\n",
              "// WITHOUT WARRANTIES OR CONDITIONS OF ANY KIND, either express or implied.\n",
              "// See the License for the specific language governing permissions and\n",
              "// limitations under the License.\n",
              "\n",
              "/**\n",
              " * @fileoverview Helpers for google.colab Python module.\n",
              " */\n",
              "(function(scope) {\n",
              "function span(text, styleAttributes = {}) {\n",
              "  const element = document.createElement('span');\n",
              "  element.textContent = text;\n",
              "  for (const key of Object.keys(styleAttributes)) {\n",
              "    element.style[key] = styleAttributes[key];\n",
              "  }\n",
              "  return element;\n",
              "}\n",
              "\n",
              "// Max number of bytes which will be uploaded at a time.\n",
              "const MAX_PAYLOAD_SIZE = 100 * 1024;\n",
              "\n",
              "function _uploadFiles(inputId, outputId) {\n",
              "  const steps = uploadFilesStep(inputId, outputId);\n",
              "  const outputElement = document.getElementById(outputId);\n",
              "  // Cache steps on the outputElement to make it available for the next call\n",
              "  // to uploadFilesContinue from Python.\n",
              "  outputElement.steps = steps;\n",
              "\n",
              "  return _uploadFilesContinue(outputId);\n",
              "}\n",
              "\n",
              "// This is roughly an async generator (not supported in the browser yet),\n",
              "// where there are multiple asynchronous steps and the Python side is going\n",
              "// to poll for completion of each step.\n",
              "// This uses a Promise to block the python side on completion of each step,\n",
              "// then passes the result of the previous step as the input to the next step.\n",
              "function _uploadFilesContinue(outputId) {\n",
              "  const outputElement = document.getElementById(outputId);\n",
              "  const steps = outputElement.steps;\n",
              "\n",
              "  const next = steps.next(outputElement.lastPromiseValue);\n",
              "  return Promise.resolve(next.value.promise).then((value) => {\n",
              "    // Cache the last promise value to make it available to the next\n",
              "    // step of the generator.\n",
              "    outputElement.lastPromiseValue = value;\n",
              "    return next.value.response;\n",
              "  });\n",
              "}\n",
              "\n",
              "/**\n",
              " * Generator function which is called between each async step of the upload\n",
              " * process.\n",
              " * @param {string} inputId Element ID of the input file picker element.\n",
              " * @param {string} outputId Element ID of the output display.\n",
              " * @return {!Iterable<!Object>} Iterable of next steps.\n",
              " */\n",
              "function* uploadFilesStep(inputId, outputId) {\n",
              "  const inputElement = document.getElementById(inputId);\n",
              "  inputElement.disabled = false;\n",
              "\n",
              "  const outputElement = document.getElementById(outputId);\n",
              "  outputElement.innerHTML = '';\n",
              "\n",
              "  const pickedPromise = new Promise((resolve) => {\n",
              "    inputElement.addEventListener('change', (e) => {\n",
              "      resolve(e.target.files);\n",
              "    });\n",
              "  });\n",
              "\n",
              "  const cancel = document.createElement('button');\n",
              "  inputElement.parentElement.appendChild(cancel);\n",
              "  cancel.textContent = 'Cancel upload';\n",
              "  const cancelPromise = new Promise((resolve) => {\n",
              "    cancel.onclick = () => {\n",
              "      resolve(null);\n",
              "    };\n",
              "  });\n",
              "\n",
              "  // Wait for the user to pick the files.\n",
              "  const files = yield {\n",
              "    promise: Promise.race([pickedPromise, cancelPromise]),\n",
              "    response: {\n",
              "      action: 'starting',\n",
              "    }\n",
              "  };\n",
              "\n",
              "  cancel.remove();\n",
              "\n",
              "  // Disable the input element since further picks are not allowed.\n",
              "  inputElement.disabled = true;\n",
              "\n",
              "  if (!files) {\n",
              "    return {\n",
              "      response: {\n",
              "        action: 'complete',\n",
              "      }\n",
              "    };\n",
              "  }\n",
              "\n",
              "  for (const file of files) {\n",
              "    const li = document.createElement('li');\n",
              "    li.append(span(file.name, {fontWeight: 'bold'}));\n",
              "    li.append(span(\n",
              "        `(${file.type || 'n/a'}) - ${file.size} bytes, ` +\n",
              "        `last modified: ${\n",
              "            file.lastModifiedDate ? file.lastModifiedDate.toLocaleDateString() :\n",
              "                                    'n/a'} - `));\n",
              "    const percent = span('0% done');\n",
              "    li.appendChild(percent);\n",
              "\n",
              "    outputElement.appendChild(li);\n",
              "\n",
              "    const fileDataPromise = new Promise((resolve) => {\n",
              "      const reader = new FileReader();\n",
              "      reader.onload = (e) => {\n",
              "        resolve(e.target.result);\n",
              "      };\n",
              "      reader.readAsArrayBuffer(file);\n",
              "    });\n",
              "    // Wait for the data to be ready.\n",
              "    let fileData = yield {\n",
              "      promise: fileDataPromise,\n",
              "      response: {\n",
              "        action: 'continue',\n",
              "      }\n",
              "    };\n",
              "\n",
              "    // Use a chunked sending to avoid message size limits. See b/62115660.\n",
              "    let position = 0;\n",
              "    do {\n",
              "      const length = Math.min(fileData.byteLength - position, MAX_PAYLOAD_SIZE);\n",
              "      const chunk = new Uint8Array(fileData, position, length);\n",
              "      position += length;\n",
              "\n",
              "      const base64 = btoa(String.fromCharCode.apply(null, chunk));\n",
              "      yield {\n",
              "        response: {\n",
              "          action: 'append',\n",
              "          file: file.name,\n",
              "          data: base64,\n",
              "        },\n",
              "      };\n",
              "\n",
              "      let percentDone = fileData.byteLength === 0 ?\n",
              "          100 :\n",
              "          Math.round((position / fileData.byteLength) * 100);\n",
              "      percent.textContent = `${percentDone}% done`;\n",
              "\n",
              "    } while (position < fileData.byteLength);\n",
              "  }\n",
              "\n",
              "  // All done.\n",
              "  yield {\n",
              "    response: {\n",
              "      action: 'complete',\n",
              "    }\n",
              "  };\n",
              "}\n",
              "\n",
              "scope.google = scope.google || {};\n",
              "scope.google.colab = scope.google.colab || {};\n",
              "scope.google.colab._files = {\n",
              "  _uploadFiles,\n",
              "  _uploadFilesContinue,\n",
              "};\n",
              "})(self);\n",
              "</script> "
            ]
          },
          "metadata": {}
        },
        {
          "output_type": "stream",
          "name": "stdout",
          "text": [
            "Saving Ecommerce.csv to Ecommerce.csv\n"
          ]
        }
      ]
    },
    {
      "cell_type": "markdown",
      "metadata": {
        "id": "s6VGBX931soX"
      },
      "source": [
        "### Load the dataset from the file Ecommerce.csv"
      ]
    },
    {
      "cell_type": "markdown",
      "metadata": {
        "id": "ytALX93D1soa"
      },
      "source": [
        "```\n",
        "This dataset includes the following data for 200 online customers:\n",
        "\n",
        "- Email\n",
        "- Adress\n",
        "- Avatar\n",
        "- Avg Session Length (everage time they spent on usage)\n",
        "- Time on App (time they spent using the application)\n",
        "- Time on Website (time they spent using the website)\n",
        "- Length of Membership (for how long they have been a user)\n",
        "- Yearly Amount Spent (how much money they spend yearly)\n",
        "\n",
        "Yout goal will be to estimate the value of the Yearly Amount Spent using the feature(s) of the users\n",
        "```"
      ]
    },
    {
      "cell_type": "markdown",
      "metadata": {
        "id": "ng9YKwjl1sob"
      },
      "source": [
        "### Get rid of non-numerical columns of the dataset"
      ]
    },
    {
      "cell_type": "code",
      "execution_count": null,
      "metadata": {
        "colab": {
          "base_uri": "https://localhost:8080/"
        },
        "id": "Vesxz4Jr1soc",
        "outputId": "4640507c-c209-47f9-e735-0e1358437dcb"
      },
      "outputs": [
        {
          "output_type": "stream",
          "name": "stdout",
          "text": [
            "   Avg Session Length  Time on App  Time on Website  Length of Membership  \\\n",
            "0           34.497268    12.655651        39.577668              4.082621   \n",
            "1           31.926272    11.109461        37.268959              2.664034   \n",
            "2           33.000915    11.330278        37.110597              4.104543   \n",
            "3           34.305557    13.717514        36.721283              3.120179   \n",
            "4           33.330673    12.795189        37.536653              4.446308   \n",
            "\n",
            "   Yearly Amount Spent  \n",
            "0           587.951054  \n",
            "1           392.204933  \n",
            "2           487.547505  \n",
            "3           581.852344  \n",
            "4           599.406092  \n"
          ]
        }
      ],
      "source": [
        "df_numerical=df.select_dtypes(include=[\"int\", \"float\"])\n",
        "print(df_numerical.head())"
      ]
    },
    {
      "cell_type": "markdown",
      "metadata": {
        "id": "x1G9l1tt1sod"
      },
      "source": [
        "### Use Yearly Amount Spent as your target variable. Plot the relationship of each of the numerical features with the target variable"
      ]
    },
    {
      "cell_type": "code",
      "execution_count": null,
      "metadata": {
        "colab": {
          "base_uri": "https://localhost:8080/",
          "height": 1000
        },
        "id": "PpFLLrJI1sod",
        "outputId": "1477f3f8-5f12-4a8c-f136-bb773c419d69"
      },
      "outputs": [
        {
          "output_type": "display_data",
          "data": {
            "text/plain": [
              "<Figure size 720x1440 with 4 Axes>"
            ],
            "image/png": "[encoded data removed]"
          },
          "metadata": {
            "needs_background": "light"
          }
        }
      ],
      "source": [
        "target=df_numerical['Yearly Amount Spent']\n",
        "fig, axs=plt.subplots(2,2, figsize=(10, 20))\n",
        "for i in range(2):\n",
        "    for j in range(2):\n",
        "        ax=axs[i, j]\n",
        "        ax.scatter(df_numerical[(df_numerical.columns[2*i+j])], target)\n",
        "        ax.set_xlabel(df_numerical.columns[2*i+j])\n",
        "        ax.set_ylabel(\"Yearly Amount Spent\")\n",
        "plt.show()"
      ]
    },
    {
      "cell_type": "markdown",
      "metadata": {
        "id": "FvG_gOFy1soe"
      },
      "source": [
        "### Leave only one feature that has a linear relationship with the target variable."
      ]
    },
    {
      "cell_type": "code",
      "execution_count": null,
      "metadata": {
        "id": "uCblklwC1soe"
      },
      "outputs": [],
      "source": [
        "X=df[\"Yearly Amount Spent\"]\n",
        "Y=df[\"Length of Membership\"]"
      ]
    },
    {
      "cell_type": "markdown",
      "metadata": {
        "id": "I1cP-kd71sof"
      },
      "source": [
        "### Divide the dataset into training and test sets with the ratio 80:20."
      ]
    },
    {
      "cell_type": "code",
      "execution_count": null,
      "metadata": {
        "id": "yUVZFbrY1sof"
      },
      "outputs": [],
      "source": [
        "X_train, X_test, y_train, y_test = train_test_split(X, Y, train_size=0.8, random_state=42)"
      ]
    },
    {
      "cell_type": "markdown",
      "metadata": {
        "id": "g0BcGoGq1sof"
      },
      "source": [
        "### Use the resulting train and test sets with the next 2 functions to fit linear regression and plot the resulting regression line."
      ]
    },
    {
      "cell_type": "markdown",
      "metadata": {
        "id": "k1D8yXFr1sog"
      },
      "source": [
        "The first function is `fit_1d_linear_regression` that takes two vectors $x$ and $y$, and returns a numpy array ($\\beta_0, \\beta_1)$, where $\\beta_0$ is the intercept of the line, and $\\beta_1$ is the slope."
      ]
    },
    {
      "cell_type": "code",
      "execution_count": null,
      "metadata": {
        "id": "kdw8q2Vn1sog"
      },
      "outputs": [],
      "source": [
        "def fit_1d_linear_regression(data_vector, response_vector):\n",
        "    \"\"\"\n",
        "    :param data_vector: A pandas series object (i.e. a column of a dataframe),\n",
        "                        where each element is a data point (x)\n",
        "    :param response_vector: A pandas series object (i.e. a column of a dataframe),\n",
        "                        where each element is label (y)\n",
        "    :return: numpy array beta of coefficients of the regression\n",
        "    Note: You can avoid the intercept for simplicity\n",
        "    \"\"\"\n",
        "\n",
        "    #TODO\n",
        "    x_mean = np.mean(data_vector)\n",
        "    y_mean = np.mean(response_vector)\n",
        "    numerator = np.sum((data_vector - x_mean) * (response_vector - y_mean))\n",
        "    denominator = np.sum((data_vector - x_mean) ** 2)\n",
        "    slope = numerator / denominator\n",
        "    intercept = y_mean - slope * x_mean\n",
        "    return (slope, intercept)"
      ]
    },
    {
      "cell_type": "markdown",
      "metadata": {
        "id": "1pP-zNpl1soh"
      },
      "source": [
        "The second function is `plot_line` function, that takes $\\beta_0, \\beta_1, x, y$ and plots a scatter plot of the data, and the line $y = \\beta_0 + \\beta_1 x$. And saves the plot in `YOURNAME.png`"
      ]
    },
    {
      "cell_type": "code",
      "execution_count": null,
      "metadata": {
        "id": "bCl8SC6D1soi"
      },
      "outputs": [],
      "source": [
        "def plot_fitted_line(b0: float,\n",
        "                     b1: float,\n",
        "                     x,\n",
        "                     y):\n",
        "    \"\"\"\n",
        "    :param b0: Intersept of line to plot\n",
        "    Note: avoid this if you don't have an intercept in the previous function\n",
        "    :param b1: Slope of the line to plot\n",
        "    :param x: A pandas series object (i.e. a column of a dataframe),\n",
        "                        where each element is a data point (x coordinates)\n",
        "    :param y: A pandas series object (i.e. a column of a dataframe),\n",
        "                        where each element is a label (y coordinates)\n",
        "    \"\"\"\n",
        "    plt.scatter(x, y)\n",
        "    line_y = b0 + b1 * x\n",
        "    plt.plot(x, line_y, color='red')\n",
        "    plt.title(\"Linear Regression\")\n",
        "    plt.xlabel(\"X\")\n",
        "    plt.ylabel(\"Y\")\n",
        "    plt.savefig(\"YOURNAME.png\")\n",
        "    plt.show()\n",
        "    pass"
      ]
    },
    {
      "cell_type": "code",
      "source": [
        "b1,b0=fit_1d_linear_regression(X_train, y_train)\n",
        "plot_fitted_line(b0,b1,X_train,y_train)"
      ],
      "metadata": {
        "colab": {
          "base_uri": "https://localhost:8080/",
          "height": 295
        },
        "id": "Q1aOXEdGhJRN",
        "outputId": "196968ca-c395-480f-88c9-93559959574a"
      },
      "execution_count": null,
      "outputs": [
        {
          "output_type": "display_data",
          "data": {
            "text/plain": [
              "<Figure size 432x288 with 1 Axes>"
            ],
            "image/png": "[encoded data removed]"
          },
          "metadata": {
            "needs_background": "light"
          }
        }
      ]
    },
    {
      "cell_type": "markdown",
      "metadata": {
        "id": "x94VecY71soj"
      },
      "source": [
        "### Plot example"
      ]
    },
    {
      "cell_type": "markdown",
      "metadata": {
        "id": "2DT6NFjt1sok"
      },
      "source": [
        "![image.png](attachment:image.png)"
      ]
    },
    {
      "cell_type": "markdown",
      "metadata": {
        "id": "MaXGpR7Y1sok"
      },
      "source": [
        "### Now fit the linear regression to the data containing only 1 feature using sklearn and compare the results with your own fit_1d_linear_regression function"
      ]
    },
    {
      "cell_type": "code",
      "execution_count": null,
      "metadata": {
        "id": "HUi7SyZM1sok",
        "colab": {
          "base_uri": "https://localhost:8080/"
        },
        "outputId": "1b6cc62c-97b9-4d42-c62c-399a467f86b7"
      },
      "outputs": [
        {
          "output_type": "stream",
          "name": "stdout",
          "text": [
            "[[0.01036269]] -1.6339233402395679\n"
          ]
        }
      ],
      "source": [
        "reg=linear_model.LinearRegression()\n",
        "X_train1, X_test1=(X_train.values).reshape(-1,1), (X_test.values).reshape(-1,1)\n",
        "y_train1, y_test1=(y_train.values).reshape(-1,1), (y_test.values).reshape(-1,1)\n",
        "reg.fit(X_train1, y_train1)\n",
        "print(reg.coef_, b0)"
      ]
    },
    {
      "cell_type": "markdown",
      "metadata": {
        "id": "eylju0dm1sol"
      },
      "source": [
        "### Use sklearn.metrics to calculate Mean absolute error, Mean squared error, Root mean squared error and R-squared for the results of your own function vs the sklearn regression results. Try to interprete your results."
      ]
    },
    {
      "cell_type": "code",
      "execution_count": null,
      "metadata": {
        "id": "sL_CQsrQ1sol",
        "colab": {
          "base_uri": "https://localhost:8080/"
        },
        "outputId": "adf67353-59c3-4b49-f7d6-472aaaa442f1"
      },
      "outputs": [
        {
          "output_type": "stream",
          "name": "stdout",
          "text": [
            "0.4703633708321966 0.4703633708321964\n",
            "0.3303006781916298 0.3303006781916297\n",
            "0.5747179118416528 0.5747179118416528\n",
            "0.5555842352382576 0.5555842352382578\n"
          ]
        }
      ],
      "source": [
        "def predict_1d(x, b1=b1, b0=b0):\n",
        "    y_pred = b1*x + b0\n",
        "    return np.array(y_pred)\n",
        "my_y_pred=predict_1d(X_test1)\n",
        "y_pred=reg.predict(X_test1)\n",
        "my_meanae=mean_absolute_error(y_test1, my_y_pred)\n",
        "meanae=mean_absolute_error(y_test1, y_pred)\n",
        "my_meanse=mean_squared_error(y_test1, my_y_pred)\n",
        "meanse=mean_squared_error(y_test1, y_pred)\n",
        "my_rootmeanse=my_meanse**0.5\n",
        "rootmeanse=meanse**0.5\n",
        "myr2=r2_score(y_test1, my_y_pred)\n",
        "r2=r2_score(y_test1, y_pred)\n",
        "print(my_meanae, meanae)\n",
        "print(my_meanse, meanse)\n",
        "print(my_rootmeanse, rootmeanse)\n",
        "print(myr2, r2)"
      ]
    },
    {
      "cell_type": "markdown",
      "metadata": {
        "id": "E7He1QTZ1sol"
      },
      "source": [
        "### Fit linear regression to the data containing all numerical features using sklearn and use the same metrics to evaluate how good the model is."
      ]
    },
    {
      "cell_type": "code",
      "execution_count": null,
      "metadata": {
        "id": "cs0G54Zt1sol",
        "colab": {
          "base_uri": "https://localhost:8080/"
        },
        "outputId": "8a820546-8875-45c2-b2d3-ec09292bab87"
      },
      "outputs": [
        {
          "output_type": "stream",
          "name": "stdout",
          "text": [
            "8.558441885315263 109.8637411839407 10.481590584636509 0.9778130629184125\n"
          ]
        }
      ],
      "source": [
        "df_numerical_x=df_numerical.drop('Yearly Amount Spent', axis=1)\n",
        "df_numerical_y=df['Yearly Amount Spent']\n",
        "X_multiple_features=df_numerical_x.values\n",
        "Y_multiple_features=df_numerical_y.values\n",
        "X_multi_train, X_multi_test, y_multi_train, y_multi_test = train_test_split(X_multiple_features, Y_multiple_features, train_size=0.8, random_state=42)\n",
        "reg.fit(X_multi_train, y_multi_train)\n",
        "y_multi_pred=reg.predict(X_multi_test)\n",
        "meanae_multi=mean_absolute_error(y_multi_test, y_multi_pred)\n",
        "meanse_multi=mean_squared_error(y_multi_test, y_multi_pred)\n",
        "rootmeanse_multi=meanse_multi**0.5\n",
        "r2_multi=r2_score(y_multi_test, y_multi_pred)\n",
        "print(meanae_multi,meanse_multi,rootmeanse_multi,r2_multi)"
      ]
    },
    {
      "cell_type": "markdown",
      "metadata": {
        "id": "u6SHvo-Z1sol"
      },
      "source": [
        "### Implement K-fold Cross Validation"
      ]
    },
    {
      "cell_type": "code",
      "execution_count": null,
      "metadata": {
        "id": "rPY9Ggwz1som",
        "colab": {
          "base_uri": "https://localhost:8080/"
        },
        "outputId": "01514205-db52-422b-d79a-56109e9ece1b"
      },
      "outputs": [
        {
          "output_type": "stream",
          "name": "stdout",
          "text": [
            "[123.32443785828414, 99.80391068686053, 113.1782765695754, 105.43001906452757, 72.3311903924268, 72.49439064033717, 90.1721714159174, 122.5637105548487, 64.41491728270059, 114.90309668512066]\n",
            "97.8616121150599\n"
          ]
        }
      ],
      "source": [
        "kf=KFold(n_splits=10, shuffle=True)\n",
        "mse_list=[]\n",
        "for train1, test1 in kf.split(X_multi_train):\n",
        "  X_TRAIN, X_TEST=X_multi_train[train1], X_multi_train[test1]\n",
        "  Y_TRAIN, Y_TEST=y_multi_train[train1], y_multi_train[test1]\n",
        "  kfmodel=linear_model.LinearRegression()\n",
        "  kfmodel.fit(X_TRAIN, Y_TRAIN)\n",
        "  kfpred=kfmodel.predict(X_TEST)\n",
        "  kfmse=mean_squared_error(kfpred, Y_TEST)\n",
        "  mse_list.append(kfmse)\n",
        "print(mse_list)\n",
        "print(np.mean(mse_list))"
      ]
    },
    {
      "cell_type": "markdown",
      "metadata": {
        "id": "MpBg8y9u1som"
      },
      "source": [
        "### Evaluate model with K-fold"
      ]
    },
    {
      "cell_type": "code",
      "execution_count": null,
      "metadata": {
        "id": "kWJJsnWr1som",
        "colab": {
          "base_uri": "https://localhost:8080/"
        },
        "outputId": "58499f5d-6608-450f-a9aa-883284f45b34"
      },
      "outputs": [
        {
          "output_type": "stream",
          "name": "stdout",
          "text": [
            "109.933806884219\n"
          ]
        }
      ],
      "source": [
        "kf_test_pred=kfmodel.predict(X_multi_test)\n",
        "print(mean_squared_error(kf_test_pred, y_multi_test))"
      ]
    },
    {
      "cell_type": "code",
      "source": [],
      "metadata": {
        "id": "2Or55RmchdWz"
      },
      "execution_count": null,
      "outputs": []
    }
  ],
  "metadata": {
    "kernelspec": {
      "display_name": "Python 3 (ipykernel)",
      "language": "python",
      "name": "python3"
    },
    "language_info": {
      "codemirror_mode": {
        "name": "ipython",
        "version": 3
      },
      "file_extension": ".py",
      "mimetype": "text/x-python",
      "name": "python",
      "nbconvert_exporter": "python",
      "pygments_lexer": "ipython3",
      "version": "3.9.12"
    },
    "colab": {
      "provenance": [],
      "include_colab_link": true
    }
  },
  "nbformat": 4,
  "nbformat_minor": 0
}